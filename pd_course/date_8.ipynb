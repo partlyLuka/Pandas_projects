{
 "cells": [
  {
   "attachments": {},
   "cell_type": "markdown",
   "metadata": {},
   "source": [
    "DATETIME VIII"
   ]
  },
  {
   "cell_type": "code",
   "execution_count": 2,
   "metadata": {},
   "outputs": [],
   "source": [
    "import pandas as pd\n",
    "import datetime as dt"
   ]
  },
  {
   "cell_type": "code",
   "execution_count": 3,
   "metadata": {},
   "outputs": [],
   "source": [
    "some = dt.date(year=2016, month=4, day=12)\n"
   ]
  },
  {
   "cell_type": "code",
   "execution_count": 4,
   "metadata": {},
   "outputs": [],
   "source": [
    "str(dt.datetime(2001, 4, 11, 15, 56, 11))\n",
    "some_time = dt.datetime(2001, 4, 11, 15, 56, 11)"
   ]
  },
  {
   "cell_type": "code",
   "execution_count": 5,
   "metadata": {},
   "outputs": [
    {
     "data": {
      "text/plain": [
       "Timestamp('2010-03-15 00:00:00')"
      ]
     },
     "execution_count": 5,
     "metadata": {},
     "output_type": "execute_result"
    }
   ],
   "source": [
    "pd.Timestamp(2010, 3, 15)"
   ]
  },
  {
   "cell_type": "code",
   "execution_count": 6,
   "metadata": {},
   "outputs": [
    {
     "data": {
      "text/plain": [
       "Timestamp('2011-03-02 00:00:00')"
      ]
     },
     "execution_count": 6,
     "metadata": {},
     "output_type": "execute_result"
    }
   ],
   "source": [
    "pd.Timestamp(\"2010/04/11\")\n",
    "pd.Timestamp(\"2011-03-02\")"
   ]
  },
  {
   "cell_type": "code",
   "execution_count": 7,
   "metadata": {},
   "outputs": [
    {
     "data": {
      "text/plain": [
       "Timestamp('2001-04-11 15:56:11')"
      ]
     },
     "execution_count": 7,
     "metadata": {},
     "output_type": "execute_result"
    }
   ],
   "source": [
    "pd.Timestamp(some_time)"
   ]
  },
  {
   "cell_type": "code",
   "execution_count": 8,
   "metadata": {},
   "outputs": [],
   "source": [
    "dates = [\"2000-04-15\", \"2014-05-25\", \"1970-11-05\"]\n",
    "ind = pd.DatetimeIndex(dates)"
   ]
  },
  {
   "cell_type": "code",
   "execution_count": 9,
   "metadata": {},
   "outputs": [
    {
     "data": {
      "text/plain": [
       "2000-04-15    23\n",
       "2014-05-25    43\n",
       "1970-11-05    66\n",
       "dtype: int64"
      ]
     },
     "execution_count": 9,
     "metadata": {},
     "output_type": "execute_result"
    }
   ],
   "source": [
    "val = [23, 43, 66]\n",
    "pd.Series(data=val, index=ind)"
   ]
  },
  {
   "cell_type": "code",
   "execution_count": 10,
   "metadata": {},
   "outputs": [
    {
     "data": {
      "text/plain": [
       "DatetimeIndex(['1999-03-14', '1999-03-14'], dtype='datetime64[ns]', freq=None)"
      ]
     },
     "execution_count": 10,
     "metadata": {},
     "output_type": "execute_result"
    }
   ],
   "source": [
    "pd.to_datetime(\"2001-04-19\")\n",
    "pd.to_datetime(dt.datetime(2001, 2, 12, 14, 2, 33))\n",
    "pd.to_datetime([\"1999/03/14\", \"1999/03/14\"])"
   ]
  },
  {
   "cell_type": "code",
   "execution_count": 11,
   "metadata": {},
   "outputs": [],
   "source": [
    "dates = [\"2001-09-11\", \"2023-09-13\", \"1999-10-10\"]\n",
    "s = pd.Series(dates)"
   ]
  },
  {
   "cell_type": "code",
   "execution_count": 12,
   "metadata": {},
   "outputs": [
    {
     "data": {
      "text/plain": [
       "0   2001-09-11\n",
       "1   2023-09-13\n",
       "2   1999-10-10\n",
       "dtype: datetime64[ns]"
      ]
     },
     "execution_count": 12,
     "metadata": {},
     "output_type": "execute_result"
    }
   ],
   "source": [
    "pd.to_datetime(s)"
   ]
  },
  {
   "cell_type": "code",
   "execution_count": 13,
   "metadata": {},
   "outputs": [
    {
     "ename": "ValueError",
     "evalue": "time data \"October 1st, 2001\" doesn't match format \"%B %dth, %Y\", at position 1. You might want to try:\n    - passing `format` if your strings have a consistent format;\n    - passing `format='ISO8601'` if your strings are all ISO8601 but not necessarily in exactly the same format;\n    - passing `format='mixed'`, and the format will be inferred for each element individually. You might want to use `dayfirst` alongside this.",
     "output_type": "error",
     "traceback": [
      "\u001b[1;31m---------------------------------------------------------------------------\u001b[0m",
      "\u001b[1;31mValueError\u001b[0m                                Traceback (most recent call last)",
      "Cell \u001b[1;32mIn[13], line 2\u001b[0m\n\u001b[0;32m      1\u001b[0m whack \u001b[39m=\u001b[39m pd\u001b[39m.\u001b[39mSeries([\u001b[39m\"\u001b[39m\u001b[39mJuly 4th, 2008\u001b[39m\u001b[39m\"\u001b[39m, \u001b[39m\"\u001b[39m\u001b[39mOctober 1st, 2001\u001b[39m\u001b[39m\"\u001b[39m, \u001b[39m\"\u001b[39m\u001b[39mHello\u001b[39m\u001b[39m\"\u001b[39m, \u001b[39m\"\u001b[39m\u001b[39mFebruary 31st, 2008\u001b[39m\u001b[39m\"\u001b[39m])\n\u001b[1;32m----> 2\u001b[0m pd\u001b[39m.\u001b[39;49mto_datetime(whack[:\u001b[39m2\u001b[39;49m])\n",
      "File \u001b[1;32m~\\AppData\\Local\\Packages\\PythonSoftwareFoundation.Python.3.10_qbz5n2kfra8p0\\LocalCache\\local-packages\\Python310\\site-packages\\pandas\\core\\tools\\datetimes.py:1050\u001b[0m, in \u001b[0;36mto_datetime\u001b[1;34m(arg, errors, dayfirst, yearfirst, utc, format, exact, unit, infer_datetime_format, origin, cache)\u001b[0m\n\u001b[0;32m   1048\u001b[0m         result \u001b[39m=\u001b[39m arg\u001b[39m.\u001b[39mmap(cache_array)\n\u001b[0;32m   1049\u001b[0m     \u001b[39melse\u001b[39;00m:\n\u001b[1;32m-> 1050\u001b[0m         values \u001b[39m=\u001b[39m convert_listlike(arg\u001b[39m.\u001b[39;49m_values, \u001b[39mformat\u001b[39;49m)\n\u001b[0;32m   1051\u001b[0m         result \u001b[39m=\u001b[39m arg\u001b[39m.\u001b[39m_constructor(values, index\u001b[39m=\u001b[39marg\u001b[39m.\u001b[39mindex, name\u001b[39m=\u001b[39marg\u001b[39m.\u001b[39mname)\n\u001b[0;32m   1052\u001b[0m \u001b[39melif\u001b[39;00m \u001b[39misinstance\u001b[39m(arg, (ABCDataFrame, abc\u001b[39m.\u001b[39mMutableMapping)):\n",
      "File \u001b[1;32m~\\AppData\\Local\\Packages\\PythonSoftwareFoundation.Python.3.10_qbz5n2kfra8p0\\LocalCache\\local-packages\\Python310\\site-packages\\pandas\\core\\tools\\datetimes.py:453\u001b[0m, in \u001b[0;36m_convert_listlike_datetimes\u001b[1;34m(arg, format, name, utc, unit, errors, dayfirst, yearfirst, exact)\u001b[0m\n\u001b[0;32m    451\u001b[0m \u001b[39m# `format` could be inferred, or user didn't ask for mixed-format parsing.\u001b[39;00m\n\u001b[0;32m    452\u001b[0m \u001b[39mif\u001b[39;00m \u001b[39mformat\u001b[39m \u001b[39mis\u001b[39;00m \u001b[39mnot\u001b[39;00m \u001b[39mNone\u001b[39;00m \u001b[39mand\u001b[39;00m \u001b[39mformat\u001b[39m \u001b[39m!=\u001b[39m \u001b[39m\"\u001b[39m\u001b[39mmixed\u001b[39m\u001b[39m\"\u001b[39m:\n\u001b[1;32m--> 453\u001b[0m     \u001b[39mreturn\u001b[39;00m _array_strptime_with_fallback(arg, name, utc, \u001b[39mformat\u001b[39;49m, exact, errors)\n\u001b[0;32m    455\u001b[0m result, tz_parsed \u001b[39m=\u001b[39m objects_to_datetime64ns(\n\u001b[0;32m    456\u001b[0m     arg,\n\u001b[0;32m    457\u001b[0m     dayfirst\u001b[39m=\u001b[39mdayfirst,\n\u001b[1;32m   (...)\u001b[0m\n\u001b[0;32m    461\u001b[0m     allow_object\u001b[39m=\u001b[39m\u001b[39mTrue\u001b[39;00m,\n\u001b[0;32m    462\u001b[0m )\n\u001b[0;32m    464\u001b[0m \u001b[39mif\u001b[39;00m tz_parsed \u001b[39mis\u001b[39;00m \u001b[39mnot\u001b[39;00m \u001b[39mNone\u001b[39;00m:\n\u001b[0;32m    465\u001b[0m     \u001b[39m# We can take a shortcut since the datetime64 numpy array\u001b[39;00m\n\u001b[0;32m    466\u001b[0m     \u001b[39m# is in UTC\u001b[39;00m\n",
      "File \u001b[1;32m~\\AppData\\Local\\Packages\\PythonSoftwareFoundation.Python.3.10_qbz5n2kfra8p0\\LocalCache\\local-packages\\Python310\\site-packages\\pandas\\core\\tools\\datetimes.py:484\u001b[0m, in \u001b[0;36m_array_strptime_with_fallback\u001b[1;34m(arg, name, utc, fmt, exact, errors)\u001b[0m\n\u001b[0;32m    473\u001b[0m \u001b[39mdef\u001b[39;00m \u001b[39m_array_strptime_with_fallback\u001b[39m(\n\u001b[0;32m    474\u001b[0m     arg,\n\u001b[0;32m    475\u001b[0m     name,\n\u001b[1;32m   (...)\u001b[0m\n\u001b[0;32m    479\u001b[0m     errors: \u001b[39mstr\u001b[39m,\n\u001b[0;32m    480\u001b[0m ) \u001b[39m-\u001b[39m\u001b[39m>\u001b[39m Index:\n\u001b[0;32m    481\u001b[0m \u001b[39m    \u001b[39m\u001b[39m\"\"\"\u001b[39;00m\n\u001b[0;32m    482\u001b[0m \u001b[39m    Call array_strptime, with fallback behavior depending on 'errors'.\u001b[39;00m\n\u001b[0;32m    483\u001b[0m \u001b[39m    \"\"\"\u001b[39;00m\n\u001b[1;32m--> 484\u001b[0m     result, timezones \u001b[39m=\u001b[39m array_strptime(arg, fmt, exact\u001b[39m=\u001b[39;49mexact, errors\u001b[39m=\u001b[39;49merrors, utc\u001b[39m=\u001b[39;49mutc)\n\u001b[0;32m    485\u001b[0m     \u001b[39mif\u001b[39;00m \u001b[39many\u001b[39m(tz \u001b[39mis\u001b[39;00m \u001b[39mnot\u001b[39;00m \u001b[39mNone\u001b[39;00m \u001b[39mfor\u001b[39;00m tz \u001b[39min\u001b[39;00m timezones):\n\u001b[0;32m    486\u001b[0m         \u001b[39mreturn\u001b[39;00m _return_parsed_timezone_results(result, timezones, utc, name)\n",
      "File \u001b[1;32m~\\AppData\\Local\\Packages\\PythonSoftwareFoundation.Python.3.10_qbz5n2kfra8p0\\LocalCache\\local-packages\\Python310\\site-packages\\pandas\\_libs\\tslibs\\strptime.pyx:530\u001b[0m, in \u001b[0;36mpandas._libs.tslibs.strptime.array_strptime\u001b[1;34m()\u001b[0m\n",
      "File \u001b[1;32m~\\AppData\\Local\\Packages\\PythonSoftwareFoundation.Python.3.10_qbz5n2kfra8p0\\LocalCache\\local-packages\\Python310\\site-packages\\pandas\\_libs\\tslibs\\strptime.pyx:351\u001b[0m, in \u001b[0;36mpandas._libs.tslibs.strptime.array_strptime\u001b[1;34m()\u001b[0m\n",
      "\u001b[1;31mValueError\u001b[0m: time data \"October 1st, 2001\" doesn't match format \"%B %dth, %Y\", at position 1. You might want to try:\n    - passing `format` if your strings have a consistent format;\n    - passing `format='ISO8601'` if your strings are all ISO8601 but not necessarily in exactly the same format;\n    - passing `format='mixed'`, and the format will be inferred for each element individually. You might want to use `dayfirst` alongside this."
     ]
    }
   ],
   "source": [
    "whack = pd.Series([\"July 4th, 2008\", \"October 1st, 2001\", \"Hello\", \"February 31st, 2008\"])\n",
    "pd.to_datetime(whack[:2])"
   ]
  },
  {
   "cell_type": "code",
   "execution_count": null,
   "metadata": {},
   "outputs": [
    {
     "data": {
      "text/plain": [
       "DatetimeIndex(['1970-01-04 18:02:13', '1970-02-06 00:32:13',\n",
       "               '1970-01-01 09:13:41'],\n",
       "              dtype='datetime64[ns]', freq=None)"
      ]
     },
     "execution_count": 61,
     "metadata": {},
     "output_type": "execute_result"
    }
   ],
   "source": [
    "pd.to_datetime([324133, 3112333, 33221], unit=\"s\")"
   ]
  },
  {
   "cell_type": "code",
   "execution_count": null,
   "metadata": {},
   "outputs": [
    {
     "data": {
      "text/plain": [
       "Timestamp('2001-10-21 00:00:00')"
      ]
     },
     "execution_count": 65,
     "metadata": {},
     "output_type": "execute_result"
    }
   ],
   "source": [
    "times = pd.date_range(start=\"2001-10-21\", end=\"2001-10-30\", freq=\"D\")\n",
    "times[0]"
   ]
  },
  {
   "cell_type": "code",
   "execution_count": null,
   "metadata": {},
   "outputs": [
    {
     "data": {
      "text/plain": [
       "DatetimeIndex(['2001-10-22', '2001-10-23', '2001-10-24', '2001-10-25',\n",
       "               '2001-10-26', '2001-10-29', '2001-10-30'],\n",
       "              dtype='datetime64[ns]', freq='B')"
      ]
     },
     "execution_count": 69,
     "metadata": {},
     "output_type": "execute_result"
    }
   ],
   "source": [
    "pd.date_range(start=\"2001-10-21\", end=\"2001-10-30\", freq=\"B\")"
   ]
  },
  {
   "cell_type": "code",
   "execution_count": null,
   "metadata": {},
   "outputs": [
    {
     "data": {
      "text/plain": [
       "DatetimeIndex(['2001-10-22', '2001-10-24', '2001-10-26', '2001-10-30',\n",
       "               '2001-11-01', '2001-11-05', '2001-11-07', '2001-11-09',\n",
       "               '2001-11-13'],\n",
       "              dtype='datetime64[ns]', freq='2B')"
      ]
     },
     "execution_count": 71,
     "metadata": {},
     "output_type": "execute_result"
    }
   ],
   "source": [
    "pd.date_range(start=\"2001-10-21\", end=\"2001-11-13\", freq=\"2B\")"
   ]
  },
  {
   "cell_type": "code",
   "execution_count": null,
   "metadata": {},
   "outputs": [
    {
     "data": {
      "text/plain": [
       "DatetimeIndex(['2001-10-26', '2001-11-02', '2001-11-09'], dtype='datetime64[ns]', freq='W-FRI')"
      ]
     },
     "execution_count": 77,
     "metadata": {},
     "output_type": "execute_result"
    }
   ],
   "source": [
    "pd.date_range(start=\"2001-10-21\", end=\"2001-11-13\", freq=\"W-FRI\")"
   ]
  },
  {
   "cell_type": "code",
   "execution_count": null,
   "metadata": {},
   "outputs": [
    {
     "data": {
      "text/plain": [
       "DatetimeIndex(['2002-01-01', '2003-01-01', '2004-01-01', '2005-01-01',\n",
       "               '2006-01-01', '2007-01-01', '2008-01-01', '2009-01-01',\n",
       "               '2010-01-01', '2011-01-01', '2012-01-01', '2013-01-01',\n",
       "               '2014-01-01', '2015-01-01', '2016-01-01', '2017-01-01',\n",
       "               '2018-01-01', '2019-01-01', '2020-01-01', '2021-01-01',\n",
       "               '2022-01-01', '2023-01-01', '2024-01-01', '2025-01-01',\n",
       "               '2026-01-01', '2027-01-01', '2028-01-01', '2029-01-01',\n",
       "               '2030-01-01', '2031-01-01'],\n",
       "              dtype='datetime64[ns]', freq='AS-JAN')"
      ]
     },
     "execution_count": 86,
     "metadata": {},
     "output_type": "execute_result"
    }
   ],
   "source": [
    "pd.date_range(start=\"2001-10-21\", end=\"2031-11-13\", freq=\"AS\")"
   ]
  },
  {
   "cell_type": "code",
   "execution_count": null,
   "metadata": {},
   "outputs": [
    {
     "data": {
      "text/plain": [
       "DatetimeIndex(['2012-09-10', '2012-09-11', '2012-09-12', '2012-09-13',\n",
       "               '2012-09-14', '2012-09-17', '2012-09-18', '2012-09-19',\n",
       "               '2012-09-20', '2012-09-21', '2012-09-24', '2012-09-25',\n",
       "               '2012-09-26', '2012-09-27', '2012-09-28', '2012-10-01',\n",
       "               '2012-10-02', '2012-10-03', '2012-10-04', '2012-10-05',\n",
       "               '2012-10-08', '2012-10-09', '2012-10-10', '2012-10-11',\n",
       "               '2012-10-12', '2012-10-15', '2012-10-16', '2012-10-17',\n",
       "               '2012-10-18', '2012-10-19', '2012-10-22', '2012-10-23',\n",
       "               '2012-10-24', '2012-10-25', '2012-10-26', '2012-10-29',\n",
       "               '2012-10-30', '2012-10-31', '2012-11-01', '2012-11-02',\n",
       "               '2012-11-05', '2012-11-06', '2012-11-07', '2012-11-08',\n",
       "               '2012-11-09', '2012-11-12', '2012-11-13', '2012-11-14',\n",
       "               '2012-11-15', '2012-11-16'],\n",
       "              dtype='datetime64[ns]', freq='B')"
      ]
     },
     "execution_count": 95,
     "metadata": {},
     "output_type": "execute_result"
    }
   ],
   "source": [
    "pd.date_range(start=\"2012-09-09\", periods=50, freq=\"B\" )"
   ]
  },
  {
   "cell_type": "code",
   "execution_count": null,
   "metadata": {},
   "outputs": [
    {
     "data": {
      "text/plain": [
       "DatetimeIndex(['2012-09-10', '2012-09-12', '2012-09-14', '2012-09-18'], dtype='datetime64[ns]', freq='2B')"
      ]
     },
     "execution_count": 94,
     "metadata": {},
     "output_type": "execute_result"
    }
   ],
   "source": [
    "pd.date_range(start=\"2012-09-09\", end=\"2012-09-19\", freq=\"2B\")"
   ]
  },
  {
   "cell_type": "code",
   "execution_count": null,
   "metadata": {},
   "outputs": [
    {
     "data": {
      "text/plain": [
       "DatetimeIndex(['2012-09-09 00:00:00', '2012-09-09 06:00:00',\n",
       "               '2012-09-09 12:00:00', '2012-09-09 18:00:00',\n",
       "               '2012-09-10 00:00:00', '2012-09-10 06:00:00',\n",
       "               '2012-09-10 12:00:00', '2012-09-10 18:00:00',\n",
       "               '2012-09-11 00:00:00', '2012-09-11 06:00:00',\n",
       "               '2012-09-11 12:00:00', '2012-09-11 18:00:00',\n",
       "               '2012-09-12 00:00:00', '2012-09-12 06:00:00',\n",
       "               '2012-09-12 12:00:00', '2012-09-12 18:00:00',\n",
       "               '2012-09-13 00:00:00', '2012-09-13 06:00:00',\n",
       "               '2012-09-13 12:00:00', '2012-09-13 18:00:00',\n",
       "               '2012-09-14 00:00:00', '2012-09-14 06:00:00',\n",
       "               '2012-09-14 12:00:00', '2012-09-14 18:00:00',\n",
       "               '2012-09-15 00:00:00', '2012-09-15 06:00:00',\n",
       "               '2012-09-15 12:00:00', '2012-09-15 18:00:00',\n",
       "               '2012-09-16 00:00:00', '2012-09-16 06:00:00',\n",
       "               '2012-09-16 12:00:00', '2012-09-16 18:00:00',\n",
       "               '2012-09-17 00:00:00', '2012-09-17 06:00:00',\n",
       "               '2012-09-17 12:00:00', '2012-09-17 18:00:00',\n",
       "               '2012-09-18 00:00:00', '2012-09-18 06:00:00',\n",
       "               '2012-09-18 12:00:00', '2012-09-18 18:00:00',\n",
       "               '2012-09-19 00:00:00', '2012-09-19 06:00:00',\n",
       "               '2012-09-19 12:00:00', '2012-09-19 18:00:00',\n",
       "               '2012-09-20 00:00:00', '2012-09-20 06:00:00',\n",
       "               '2012-09-20 12:00:00', '2012-09-20 18:00:00',\n",
       "               '2012-09-21 00:00:00', '2012-09-21 06:00:00'],\n",
       "              dtype='datetime64[ns]', freq='6H')"
      ]
     },
     "execution_count": 101,
     "metadata": {},
     "output_type": "execute_result"
    }
   ],
   "source": [
    "pd.date_range(start=\"2012-09-09\", periods=50, freq=\"6H\")"
   ]
  },
  {
   "cell_type": "code",
   "execution_count": null,
   "metadata": {},
   "outputs": [
    {
     "data": {
      "text/plain": [
       "DatetimeIndex(['1999-11-05 21:00:00', '1999-11-06 04:00:00',\n",
       "               '1999-11-06 11:00:00', '1999-11-06 18:00:00',\n",
       "               '1999-11-07 01:00:00', '1999-11-07 08:00:00',\n",
       "               '1999-11-07 15:00:00', '1999-11-07 22:00:00',\n",
       "               '1999-11-08 05:00:00', '1999-11-08 12:00:00',\n",
       "               ...\n",
       "               '1999-12-28 09:00:00', '1999-12-28 16:00:00',\n",
       "               '1999-12-28 23:00:00', '1999-12-29 06:00:00',\n",
       "               '1999-12-29 13:00:00', '1999-12-29 20:00:00',\n",
       "               '1999-12-30 03:00:00', '1999-12-30 10:00:00',\n",
       "               '1999-12-30 17:00:00', '1999-12-31 00:00:00'],\n",
       "              dtype='datetime64[ns]', length=190, freq='7H')"
      ]
     },
     "execution_count": 110,
     "metadata": {},
     "output_type": "execute_result"
    }
   ],
   "source": [
    "pd.date_range(end=\"1999-12-31\", periods=190, freq=\"7H\")"
   ]
  },
  {
   "cell_type": "code",
   "execution_count": null,
   "metadata": {},
   "outputs": [],
   "source": [
    "times = pd.date_range(start=\"2000-1-1\", end=\"2010-12-31\", freq=\"24D\")"
   ]
  },
  {
   "cell_type": "code",
   "execution_count": null,
   "metadata": {},
   "outputs": [
    {
     "data": {
      "text/plain": [
       "0     2000-01-01\n",
       "1     2000-01-25\n",
       "2     2000-02-18\n",
       "3     2000-03-13\n",
       "4     2000-04-06\n",
       "         ...    \n",
       "163   2010-09-17\n",
       "164   2010-10-11\n",
       "165   2010-11-04\n",
       "166   2010-11-28\n",
       "167   2010-12-22\n",
       "Length: 168, dtype: datetime64[ns]"
      ]
     },
     "execution_count": 118,
     "metadata": {},
     "output_type": "execute_result"
    }
   ],
   "source": [
    "s = pd.Series(data=times)\n",
    "s"
   ]
  },
  {
   "cell_type": "code",
   "execution_count": null,
   "metadata": {},
   "outputs": [
    {
     "data": {
      "text/plain": [
       "0      5\n",
       "1      1\n",
       "2      4\n",
       "3      0\n",
       "4      3\n",
       "      ..\n",
       "163    4\n",
       "164    0\n",
       "165    3\n",
       "166    6\n",
       "167    2\n",
       "Length: 168, dtype: int32"
      ]
     },
     "execution_count": 125,
     "metadata": {},
     "output_type": "execute_result"
    }
   ],
   "source": [
    "s.dt.weekday"
   ]
  },
  {
   "cell_type": "code",
   "execution_count": null,
   "metadata": {},
   "outputs": [],
   "source": [
    "mask = s.dt.is_quarter_start"
   ]
  },
  {
   "cell_type": "code",
   "execution_count": null,
   "metadata": {},
   "outputs": [
    {
     "data": {
      "text/plain": [
       "0     2000-01-01\n",
       "19    2001-04-01\n",
       "38    2002-07-01\n",
       "104   2006-11-01\n",
       "109   2007-03-01\n",
       "137   2009-01-01\n",
       "142   2009-05-01\n",
       "dtype: datetime64[ns]"
      ]
     },
     "execution_count": 131,
     "metadata": {},
     "output_type": "execute_result"
    }
   ],
   "source": [
    "s[mask]\n",
    "mask = s.dt.is_month_start\n",
    "s[mask]"
   ]
  },
  {
   "cell_type": "code",
   "execution_count": null,
   "metadata": {},
   "outputs": [
    {
     "data": {
      "text/plain": [
       "2000    16\n",
       "2004    16\n",
       "2008    15\n",
       "Name: count, dtype: int64"
      ]
     },
     "execution_count": 133,
     "metadata": {},
     "output_type": "execute_result"
    }
   ],
   "source": [
    "s[s.dt.is_leap_year].dt.year.value_counts()"
   ]
  },
  {
   "cell_type": "code",
   "execution_count": 14,
   "metadata": {},
   "outputs": [],
   "source": [
    "import pandas_datareader"
   ]
  },
  {
   "cell_type": "code",
   "execution_count": 15,
   "metadata": {},
   "outputs": [],
   "source": [
    "from pandas_datareader import data \n",
    "stocks = data.DataReader(\n",
    "    name=\"MSFT\", data_source=\"stooq\", start=\"2010-1-1\", end=\"2020-12-31\"\n",
    ")"
   ]
  },
  {
   "cell_type": "code",
   "execution_count": 16,
   "metadata": {},
   "outputs": [
    {
     "data": {
      "text/html": [
       "<div>\n",
       "<style scoped>\n",
       "    .dataframe tbody tr th:only-of-type {\n",
       "        vertical-align: middle;\n",
       "    }\n",
       "\n",
       "    .dataframe tbody tr th {\n",
       "        vertical-align: top;\n",
       "    }\n",
       "\n",
       "    .dataframe thead th {\n",
       "        text-align: right;\n",
       "    }\n",
       "</style>\n",
       "<table border=\"1\" class=\"dataframe\">\n",
       "  <thead>\n",
       "    <tr style=\"text-align: right;\">\n",
       "      <th></th>\n",
       "      <th>Open</th>\n",
       "      <th>High</th>\n",
       "      <th>Low</th>\n",
       "      <th>Close</th>\n",
       "      <th>Volume</th>\n",
       "    </tr>\n",
       "    <tr>\n",
       "      <th>Date</th>\n",
       "      <th></th>\n",
       "      <th></th>\n",
       "      <th></th>\n",
       "      <th></th>\n",
       "      <th></th>\n",
       "    </tr>\n",
       "  </thead>\n",
       "  <tbody>\n",
       "    <tr>\n",
       "      <th>2020-12-31</th>\n",
       "      <td>217.8220</td>\n",
       "      <td>219.1040</td>\n",
       "      <td>215.8380</td>\n",
       "      <td>218.5280</td>\n",
       "      <td>2.131555e+07</td>\n",
       "    </tr>\n",
       "    <tr>\n",
       "      <th>2020-12-30</th>\n",
       "      <td>221.2770</td>\n",
       "      <td>221.6740</td>\n",
       "      <td>217.5950</td>\n",
       "      <td>217.8020</td>\n",
       "      <td>2.063381e+07</td>\n",
       "    </tr>\n",
       "    <tr>\n",
       "      <th>2020-12-29</th>\n",
       "      <td>222.3500</td>\n",
       "      <td>223.2140</td>\n",
       "      <td>219.6590</td>\n",
       "      <td>220.2050</td>\n",
       "      <td>1.771353e+07</td>\n",
       "    </tr>\n",
       "    <tr>\n",
       "      <th>2020-12-28</th>\n",
       "      <td>220.5040</td>\n",
       "      <td>222.0710</td>\n",
       "      <td>219.1230</td>\n",
       "      <td>221.0100</td>\n",
       "      <td>1.825327e+07</td>\n",
       "    </tr>\n",
       "    <tr>\n",
       "      <th>2020-12-24</th>\n",
       "      <td>217.5450</td>\n",
       "      <td>219.6890</td>\n",
       "      <td>217.3260</td>\n",
       "      <td>218.8550</td>\n",
       "      <td>1.073870e+07</td>\n",
       "    </tr>\n",
       "    <tr>\n",
       "      <th>...</th>\n",
       "      <td>...</td>\n",
       "      <td>...</td>\n",
       "      <td>...</td>\n",
       "      <td>...</td>\n",
       "      <td>...</td>\n",
       "    </tr>\n",
       "    <tr>\n",
       "      <th>2010-01-08</th>\n",
       "      <td>23.7837</td>\n",
       "      <td>24.2642</td>\n",
       "      <td>23.7608</td>\n",
       "      <td>24.0934</td>\n",
       "      <td>6.515561e+07</td>\n",
       "    </tr>\n",
       "    <tr>\n",
       "      <th>2010-01-07</th>\n",
       "      <td>24.0537</td>\n",
       "      <td>24.1232</td>\n",
       "      <td>23.7221</td>\n",
       "      <td>23.9257</td>\n",
       "      <td>6.434577e+07</td>\n",
       "    </tr>\n",
       "    <tr>\n",
       "      <th>2010-01-06</th>\n",
       "      <td>24.2642</td>\n",
       "      <td>24.4230</td>\n",
       "      <td>23.9852</td>\n",
       "      <td>24.1758</td>\n",
       "      <td>7.403254e+07</td>\n",
       "    </tr>\n",
       "    <tr>\n",
       "      <th>2010-01-05</th>\n",
       "      <td>24.2542</td>\n",
       "      <td>24.4389</td>\n",
       "      <td>24.0765</td>\n",
       "      <td>24.3267</td>\n",
       "      <td>6.331174e+07</td>\n",
       "    </tr>\n",
       "    <tr>\n",
       "      <th>2010-01-04</th>\n",
       "      <td>24.0854</td>\n",
       "      <td>24.4389</td>\n",
       "      <td>24.0358</td>\n",
       "      <td>24.3178</td>\n",
       "      <td>4.886916e+07</td>\n",
       "    </tr>\n",
       "  </tbody>\n",
       "</table>\n",
       "<p>2769 rows × 5 columns</p>\n",
       "</div>"
      ],
      "text/plain": [
       "                Open      High       Low     Close        Volume\n",
       "Date                                                            \n",
       "2020-12-31  217.8220  219.1040  215.8380  218.5280  2.131555e+07\n",
       "2020-12-30  221.2770  221.6740  217.5950  217.8020  2.063381e+07\n",
       "2020-12-29  222.3500  223.2140  219.6590  220.2050  1.771353e+07\n",
       "2020-12-28  220.5040  222.0710  219.1230  221.0100  1.825327e+07\n",
       "2020-12-24  217.5450  219.6890  217.3260  218.8550  1.073870e+07\n",
       "...              ...       ...       ...       ...           ...\n",
       "2010-01-08   23.7837   24.2642   23.7608   24.0934  6.515561e+07\n",
       "2010-01-07   24.0537   24.1232   23.7221   23.9257  6.434577e+07\n",
       "2010-01-06   24.2642   24.4230   23.9852   24.1758  7.403254e+07\n",
       "2010-01-05   24.2542   24.4389   24.0765   24.3267  6.331174e+07\n",
       "2010-01-04   24.0854   24.4389   24.0358   24.3178  4.886916e+07\n",
       "\n",
       "[2769 rows x 5 columns]"
      ]
     },
     "execution_count": 16,
     "metadata": {},
     "output_type": "execute_result"
    }
   ],
   "source": [
    "stocks"
   ]
  },
  {
   "cell_type": "code",
   "execution_count": 17,
   "metadata": {},
   "outputs": [
    {
     "data": {
      "text/plain": [
       "DatetimeIndex(['2020-12-31', '2020-12-30', '2020-12-29', '2020-12-28',\n",
       "               '2020-12-24', '2020-12-23', '2020-12-22', '2020-12-21',\n",
       "               '2020-12-18', '2020-12-17',\n",
       "               ...\n",
       "               '2010-01-15', '2010-01-14', '2010-01-13', '2010-01-12',\n",
       "               '2010-01-11', '2010-01-08', '2010-01-07', '2010-01-06',\n",
       "               '2010-01-05', '2010-01-04'],\n",
       "              dtype='datetime64[ns]', name='Date', length=2769, freq=None)"
      ]
     },
     "execution_count": 17,
     "metadata": {},
     "output_type": "execute_result"
    }
   ],
   "source": [
    "stocks.index"
   ]
  },
  {
   "cell_type": "code",
   "execution_count": 18,
   "metadata": {},
   "outputs": [
    {
     "data": {
      "text/plain": [
       "[DatetimeIndex(['2020-12-31', '2020-12-30', '2020-12-29', '2020-12-28',\n",
       "                '2020-12-24', '2020-12-23', '2020-12-22', '2020-12-21',\n",
       "                '2020-12-18', '2020-12-17',\n",
       "                ...\n",
       "                '2010-01-15', '2010-01-14', '2010-01-13', '2010-01-12',\n",
       "                '2010-01-11', '2010-01-08', '2010-01-07', '2010-01-06',\n",
       "                '2010-01-05', '2010-01-04'],\n",
       "               dtype='datetime64[ns]', name='Date', length=2769, freq=None),\n",
       " Index(['Open', 'High', 'Low', 'Close', 'Volume'], dtype='object')]"
      ]
     },
     "execution_count": 18,
     "metadata": {},
     "output_type": "execute_result"
    }
   ],
   "source": [
    "stocks.axes"
   ]
  },
  {
   "cell_type": "code",
   "execution_count": 19,
   "metadata": {},
   "outputs": [
    {
     "data": {
      "text/html": [
       "<div>\n",
       "<style scoped>\n",
       "    .dataframe tbody tr th:only-of-type {\n",
       "        vertical-align: middle;\n",
       "    }\n",
       "\n",
       "    .dataframe tbody tr th {\n",
       "        vertical-align: top;\n",
       "    }\n",
       "\n",
       "    .dataframe thead th {\n",
       "        text-align: right;\n",
       "    }\n",
       "</style>\n",
       "<table border=\"1\" class=\"dataframe\">\n",
       "  <thead>\n",
       "    <tr style=\"text-align: right;\">\n",
       "      <th></th>\n",
       "      <th>Open</th>\n",
       "      <th>High</th>\n",
       "      <th>Low</th>\n",
       "      <th>Close</th>\n",
       "      <th>Volume</th>\n",
       "    </tr>\n",
       "    <tr>\n",
       "      <th>Date</th>\n",
       "      <th></th>\n",
       "      <th></th>\n",
       "      <th></th>\n",
       "      <th></th>\n",
       "      <th></th>\n",
       "    </tr>\n",
       "  </thead>\n",
       "  <tbody>\n",
       "    <tr>\n",
       "      <th>2010-01-04</th>\n",
       "      <td>24.0854</td>\n",
       "      <td>24.4389</td>\n",
       "      <td>24.0358</td>\n",
       "      <td>24.3178</td>\n",
       "      <td>4.886916e+07</td>\n",
       "    </tr>\n",
       "    <tr>\n",
       "      <th>2010-01-05</th>\n",
       "      <td>24.2542</td>\n",
       "      <td>24.4389</td>\n",
       "      <td>24.0765</td>\n",
       "      <td>24.3267</td>\n",
       "      <td>6.331174e+07</td>\n",
       "    </tr>\n",
       "    <tr>\n",
       "      <th>2010-01-06</th>\n",
       "      <td>24.2642</td>\n",
       "      <td>24.4230</td>\n",
       "      <td>23.9852</td>\n",
       "      <td>24.1758</td>\n",
       "      <td>7.403254e+07</td>\n",
       "    </tr>\n",
       "  </tbody>\n",
       "</table>\n",
       "</div>"
      ],
      "text/plain": [
       "               Open     High      Low    Close        Volume\n",
       "Date                                                        \n",
       "2010-01-04  24.0854  24.4389  24.0358  24.3178  4.886916e+07\n",
       "2010-01-05  24.2542  24.4389  24.0765  24.3267  6.331174e+07\n",
       "2010-01-06  24.2642  24.4230  23.9852  24.1758  7.403254e+07"
      ]
     },
     "execution_count": 19,
     "metadata": {},
     "output_type": "execute_result"
    }
   ],
   "source": [
    "stocks = stocks.sort_index()\n",
    "stocks.head(3)"
   ]
  },
  {
   "cell_type": "code",
   "execution_count": 20,
   "metadata": {},
   "outputs": [
    {
     "data": {
      "text/html": [
       "<div>\n",
       "<style scoped>\n",
       "    .dataframe tbody tr th:only-of-type {\n",
       "        vertical-align: middle;\n",
       "    }\n",
       "\n",
       "    .dataframe tbody tr th {\n",
       "        vertical-align: top;\n",
       "    }\n",
       "\n",
       "    .dataframe thead th {\n",
       "        text-align: right;\n",
       "    }\n",
       "</style>\n",
       "<table border=\"1\" class=\"dataframe\">\n",
       "  <thead>\n",
       "    <tr style=\"text-align: right;\">\n",
       "      <th></th>\n",
       "      <th>Open</th>\n",
       "      <th>High</th>\n",
       "      <th>Low</th>\n",
       "      <th>Close</th>\n",
       "      <th>Volume</th>\n",
       "    </tr>\n",
       "    <tr>\n",
       "      <th>Date</th>\n",
       "      <th></th>\n",
       "      <th></th>\n",
       "      <th></th>\n",
       "      <th></th>\n",
       "      <th></th>\n",
       "    </tr>\n",
       "  </thead>\n",
       "  <tbody>\n",
       "    <tr>\n",
       "      <th>2010-01-04</th>\n",
       "      <td>24.0854</td>\n",
       "      <td>24.4389</td>\n",
       "      <td>24.0358</td>\n",
       "      <td>24.3178</td>\n",
       "      <td>4.886916e+07</td>\n",
       "    </tr>\n",
       "  </tbody>\n",
       "</table>\n",
       "</div>"
      ],
      "text/plain": [
       "               Open     High      Low    Close        Volume\n",
       "Date                                                        \n",
       "2010-01-04  24.0854  24.4389  24.0358  24.3178  4.886916e+07"
      ]
     },
     "execution_count": 20,
     "metadata": {},
     "output_type": "execute_result"
    }
   ],
   "source": [
    "stocks.loc[[pd.Timestamp(\"2010-01-04\")]]"
   ]
  },
  {
   "cell_type": "code",
   "execution_count": 21,
   "metadata": {},
   "outputs": [
    {
     "data": {
      "text/plain": [
       "Open      2.178220e+02\n",
       "High      2.191040e+02\n",
       "Low       2.158380e+02\n",
       "Close     2.185280e+02\n",
       "Volume    2.131555e+07\n",
       "Name: 2020-12-31 00:00:00, dtype: float64"
      ]
     },
     "execution_count": 21,
     "metadata": {},
     "output_type": "execute_result"
    }
   ],
   "source": [
    "stocks.iloc[-1]"
   ]
  },
  {
   "cell_type": "code",
   "execution_count": 22,
   "metadata": {},
   "outputs": [
    {
     "data": {
      "text/html": [
       "<div>\n",
       "<style scoped>\n",
       "    .dataframe tbody tr th:only-of-type {\n",
       "        vertical-align: middle;\n",
       "    }\n",
       "\n",
       "    .dataframe tbody tr th {\n",
       "        vertical-align: top;\n",
       "    }\n",
       "\n",
       "    .dataframe thead th {\n",
       "        text-align: right;\n",
       "    }\n",
       "</style>\n",
       "<table border=\"1\" class=\"dataframe\">\n",
       "  <thead>\n",
       "    <tr style=\"text-align: right;\">\n",
       "      <th></th>\n",
       "      <th>Open</th>\n",
       "      <th>High</th>\n",
       "      <th>Low</th>\n",
       "      <th>Close</th>\n",
       "      <th>Volume</th>\n",
       "    </tr>\n",
       "    <tr>\n",
       "      <th>Date</th>\n",
       "      <th></th>\n",
       "      <th></th>\n",
       "      <th></th>\n",
       "      <th></th>\n",
       "      <th></th>\n",
       "    </tr>\n",
       "  </thead>\n",
       "  <tbody>\n",
       "    <tr>\n",
       "      <th>2014-02-05</th>\n",
       "      <td>30.8303</td>\n",
       "      <td>30.9832</td>\n",
       "      <td>30.4134</td>\n",
       "      <td>30.4302</td>\n",
       "      <td>6.572165e+07</td>\n",
       "    </tr>\n",
       "    <tr>\n",
       "      <th>2015-05-28</th>\n",
       "      <td>42.0227</td>\n",
       "      <td>42.4835</td>\n",
       "      <td>41.9294</td>\n",
       "      <td>41.9790</td>\n",
       "      <td>2.179659e+07</td>\n",
       "    </tr>\n",
       "  </tbody>\n",
       "</table>\n",
       "</div>"
      ],
      "text/plain": [
       "               Open     High      Low    Close        Volume\n",
       "Date                                                        \n",
       "2014-02-05  30.8303  30.9832  30.4134  30.4302  6.572165e+07\n",
       "2015-05-28  42.0227  42.4835  41.9294  41.9790  2.179659e+07"
      ]
     },
     "execution_count": 22,
     "metadata": {},
     "output_type": "execute_result"
    }
   ],
   "source": [
    "stocks.loc[[pd.Timestamp(\"2014-2-5\"), pd.Timestamp(\"2015-5-28\")]]"
   ]
  },
  {
   "cell_type": "code",
   "execution_count": null,
   "metadata": {},
   "outputs": [
    {
     "ename": "OutOfBoundsDatetime",
     "evalue": "Out of bounds nanosecond timestamp: 2929-12-12, at position 0",
     "output_type": "error",
     "traceback": [
      "\u001b[1;31m---------------------------------------------------------------------------\u001b[0m",
      "\u001b[1;31mOverflowError\u001b[0m                             Traceback (most recent call last)",
      "File \u001b[1;32m~\\AppData\\Local\\Packages\\PythonSoftwareFoundation.Python.3.10_qbz5n2kfra8p0\\LocalCache\\local-packages\\Python310\\site-packages\\pandas\\_libs\\tslibs\\conversion.pyx:245\u001b[0m, in \u001b[0;36mpandas._libs.tslibs.conversion._TSObject.ensure_reso\u001b[1;34m()\u001b[0m\n",
      "File \u001b[1;32m~\\AppData\\Local\\Packages\\PythonSoftwareFoundation.Python.3.10_qbz5n2kfra8p0\\LocalCache\\local-packages\\Python310\\site-packages\\pandas\\_libs\\tslibs\\np_datetime.pyx:614\u001b[0m, in \u001b[0;36mpandas._libs.tslibs.np_datetime.convert_reso\u001b[1;34m()\u001b[0m\n",
      "\u001b[1;31mOverflowError\u001b[0m: value too large",
      "\nThe above exception was the direct cause of the following exception:\n",
      "\u001b[1;31mOutOfBoundsDatetime\u001b[0m                       Traceback (most recent call last)",
      "Cell \u001b[1;32mIn[51], line 1\u001b[0m\n\u001b[1;32m----> 1\u001b[0m pd\u001b[39m.\u001b[39;49mto_datetime(\u001b[39m\"\u001b[39;49m\u001b[39m2929-12-12\u001b[39;49m\u001b[39m\"\u001b[39;49m)\n",
      "File \u001b[1;32m~\\AppData\\Local\\Packages\\PythonSoftwareFoundation.Python.3.10_qbz5n2kfra8p0\\LocalCache\\local-packages\\Python310\\site-packages\\pandas\\core\\tools\\datetimes.py:1084\u001b[0m, in \u001b[0;36mto_datetime\u001b[1;34m(arg, errors, dayfirst, yearfirst, utc, format, exact, unit, infer_datetime_format, origin, cache)\u001b[0m\n\u001b[0;32m   1082\u001b[0m         result \u001b[39m=\u001b[39m convert_listlike(argc, \u001b[39mformat\u001b[39m)\n\u001b[0;32m   1083\u001b[0m \u001b[39melse\u001b[39;00m:\n\u001b[1;32m-> 1084\u001b[0m     result \u001b[39m=\u001b[39m convert_listlike(np\u001b[39m.\u001b[39;49marray([arg]), \u001b[39mformat\u001b[39;49m)[\u001b[39m0\u001b[39m]\n\u001b[0;32m   1085\u001b[0m     \u001b[39mif\u001b[39;00m \u001b[39misinstance\u001b[39m(arg, \u001b[39mbool\u001b[39m) \u001b[39mand\u001b[39;00m \u001b[39misinstance\u001b[39m(result, np\u001b[39m.\u001b[39mbool_):\n\u001b[0;32m   1086\u001b[0m         result \u001b[39m=\u001b[39m \u001b[39mbool\u001b[39m(result)  \u001b[39m# TODO: avoid this kludge.\u001b[39;00m\n",
      "File \u001b[1;32m~\\AppData\\Local\\Packages\\PythonSoftwareFoundation.Python.3.10_qbz5n2kfra8p0\\LocalCache\\local-packages\\Python310\\site-packages\\pandas\\core\\tools\\datetimes.py:455\u001b[0m, in \u001b[0;36m_convert_listlike_datetimes\u001b[1;34m(arg, format, name, utc, unit, errors, dayfirst, yearfirst, exact)\u001b[0m\n\u001b[0;32m    452\u001b[0m \u001b[39mif\u001b[39;00m \u001b[39mformat\u001b[39m \u001b[39mis\u001b[39;00m \u001b[39mnot\u001b[39;00m \u001b[39mNone\u001b[39;00m \u001b[39mand\u001b[39;00m \u001b[39mformat\u001b[39m \u001b[39m!=\u001b[39m \u001b[39m\"\u001b[39m\u001b[39mmixed\u001b[39m\u001b[39m\"\u001b[39m:\n\u001b[0;32m    453\u001b[0m     \u001b[39mreturn\u001b[39;00m _array_strptime_with_fallback(arg, name, utc, \u001b[39mformat\u001b[39m, exact, errors)\n\u001b[1;32m--> 455\u001b[0m result, tz_parsed \u001b[39m=\u001b[39m objects_to_datetime64ns(\n\u001b[0;32m    456\u001b[0m     arg,\n\u001b[0;32m    457\u001b[0m     dayfirst\u001b[39m=\u001b[39;49mdayfirst,\n\u001b[0;32m    458\u001b[0m     yearfirst\u001b[39m=\u001b[39;49myearfirst,\n\u001b[0;32m    459\u001b[0m     utc\u001b[39m=\u001b[39;49mutc,\n\u001b[0;32m    460\u001b[0m     errors\u001b[39m=\u001b[39;49merrors,\n\u001b[0;32m    461\u001b[0m     allow_object\u001b[39m=\u001b[39;49m\u001b[39mTrue\u001b[39;49;00m,\n\u001b[0;32m    462\u001b[0m )\n\u001b[0;32m    464\u001b[0m \u001b[39mif\u001b[39;00m tz_parsed \u001b[39mis\u001b[39;00m \u001b[39mnot\u001b[39;00m \u001b[39mNone\u001b[39;00m:\n\u001b[0;32m    465\u001b[0m     \u001b[39m# We can take a shortcut since the datetime64 numpy array\u001b[39;00m\n\u001b[0;32m    466\u001b[0m     \u001b[39m# is in UTC\u001b[39;00m\n\u001b[0;32m    467\u001b[0m     dta \u001b[39m=\u001b[39m DatetimeArray(result, dtype\u001b[39m=\u001b[39mtz_to_dtype(tz_parsed))\n",
      "File \u001b[1;32m~\\AppData\\Local\\Packages\\PythonSoftwareFoundation.Python.3.10_qbz5n2kfra8p0\\LocalCache\\local-packages\\Python310\\site-packages\\pandas\\core\\arrays\\datetimes.py:2177\u001b[0m, in \u001b[0;36mobjects_to_datetime64ns\u001b[1;34m(data, dayfirst, yearfirst, utc, errors, allow_object)\u001b[0m\n\u001b[0;32m   2174\u001b[0m \u001b[39m# if str-dtype, convert\u001b[39;00m\n\u001b[0;32m   2175\u001b[0m data \u001b[39m=\u001b[39m np\u001b[39m.\u001b[39marray(data, copy\u001b[39m=\u001b[39m\u001b[39mFalse\u001b[39;00m, dtype\u001b[39m=\u001b[39mnp\u001b[39m.\u001b[39mobject_)\n\u001b[1;32m-> 2177\u001b[0m result, tz_parsed \u001b[39m=\u001b[39m tslib\u001b[39m.\u001b[39;49marray_to_datetime(\n\u001b[0;32m   2178\u001b[0m     data,\n\u001b[0;32m   2179\u001b[0m     errors\u001b[39m=\u001b[39;49merrors,\n\u001b[0;32m   2180\u001b[0m     utc\u001b[39m=\u001b[39;49mutc,\n\u001b[0;32m   2181\u001b[0m     dayfirst\u001b[39m=\u001b[39;49mdayfirst,\n\u001b[0;32m   2182\u001b[0m     yearfirst\u001b[39m=\u001b[39;49myearfirst,\n\u001b[0;32m   2183\u001b[0m )\n\u001b[0;32m   2185\u001b[0m \u001b[39mif\u001b[39;00m tz_parsed \u001b[39mis\u001b[39;00m \u001b[39mnot\u001b[39;00m \u001b[39mNone\u001b[39;00m:\n\u001b[0;32m   2186\u001b[0m     \u001b[39m# We can take a shortcut since the datetime64 numpy array\u001b[39;00m\n\u001b[0;32m   2187\u001b[0m     \u001b[39m#  is in UTC\u001b[39;00m\n\u001b[0;32m   2188\u001b[0m     \u001b[39m# Return i8 values to denote unix timestamps\u001b[39;00m\n\u001b[0;32m   2189\u001b[0m     \u001b[39mreturn\u001b[39;00m result\u001b[39m.\u001b[39mview(\u001b[39m\"\u001b[39m\u001b[39mi8\u001b[39m\u001b[39m\"\u001b[39m), tz_parsed\n",
      "File \u001b[1;32m~\\AppData\\Local\\Packages\\PythonSoftwareFoundation.Python.3.10_qbz5n2kfra8p0\\LocalCache\\local-packages\\Python310\\site-packages\\pandas\\_libs\\tslib.pyx:402\u001b[0m, in \u001b[0;36mpandas._libs.tslib.array_to_datetime\u001b[1;34m()\u001b[0m\n",
      "File \u001b[1;32m~\\AppData\\Local\\Packages\\PythonSoftwareFoundation.Python.3.10_qbz5n2kfra8p0\\LocalCache\\local-packages\\Python310\\site-packages\\pandas\\_libs\\tslib.pyx:551\u001b[0m, in \u001b[0;36mpandas._libs.tslib.array_to_datetime\u001b[1;34m()\u001b[0m\n",
      "File \u001b[1;32m~\\AppData\\Local\\Packages\\PythonSoftwareFoundation.Python.3.10_qbz5n2kfra8p0\\LocalCache\\local-packages\\Python310\\site-packages\\pandas\\_libs\\tslib.pyx:519\u001b[0m, in \u001b[0;36mpandas._libs.tslib.array_to_datetime\u001b[1;34m()\u001b[0m\n",
      "File \u001b[1;32m~\\AppData\\Local\\Packages\\PythonSoftwareFoundation.Python.3.10_qbz5n2kfra8p0\\LocalCache\\local-packages\\Python310\\site-packages\\pandas\\_libs\\tslibs\\conversion.pyx:248\u001b[0m, in \u001b[0;36mpandas._libs.tslibs.conversion._TSObject.ensure_reso\u001b[1;34m()\u001b[0m\n",
      "\u001b[1;31mOutOfBoundsDatetime\u001b[0m: Out of bounds nanosecond timestamp: 2929-12-12, at position 0"
     ]
    }
   ],
   "source": []
  },
  {
   "cell_type": "code",
   "execution_count": 23,
   "metadata": {},
   "outputs": [
    {
     "data": {
      "text/html": [
       "<div>\n",
       "<style scoped>\n",
       "    .dataframe tbody tr th:only-of-type {\n",
       "        vertical-align: middle;\n",
       "    }\n",
       "\n",
       "    .dataframe tbody tr th {\n",
       "        vertical-align: top;\n",
       "    }\n",
       "\n",
       "    .dataframe thead th {\n",
       "        text-align: right;\n",
       "    }\n",
       "</style>\n",
       "<table border=\"1\" class=\"dataframe\">\n",
       "  <thead>\n",
       "    <tr style=\"text-align: right;\">\n",
       "      <th></th>\n",
       "      <th>Open</th>\n",
       "      <th>High</th>\n",
       "      <th>Low</th>\n",
       "      <th>Close</th>\n",
       "      <th>Volume</th>\n",
       "    </tr>\n",
       "    <tr>\n",
       "      <th>Date</th>\n",
       "      <th></th>\n",
       "      <th></th>\n",
       "      <th></th>\n",
       "      <th></th>\n",
       "      <th></th>\n",
       "    </tr>\n",
       "  </thead>\n",
       "  <tbody>\n",
       "    <tr>\n",
       "      <th>2011-03-22</th>\n",
       "      <td>19.9039</td>\n",
       "      <td>20.0042</td>\n",
       "      <td>19.8265</td>\n",
       "      <td>19.8802</td>\n",
       "      <td>3.932459e+07</td>\n",
       "    </tr>\n",
       "    <tr>\n",
       "      <th>2011-03-23</th>\n",
       "      <td>19.8176</td>\n",
       "      <td>20.1234</td>\n",
       "      <td>19.7868</td>\n",
       "      <td>20.0687</td>\n",
       "      <td>5.595803e+07</td>\n",
       "    </tr>\n",
       "    <tr>\n",
       "      <th>2011-03-24</th>\n",
       "      <td>20.1333</td>\n",
       "      <td>20.3268</td>\n",
       "      <td>20.0389</td>\n",
       "      <td>20.2811</td>\n",
       "      <td>4.928208e+07</td>\n",
       "    </tr>\n",
       "    <tr>\n",
       "      <th>2011-03-25</th>\n",
       "      <td>20.3665</td>\n",
       "      <td>20.3914</td>\n",
       "      <td>20.1064</td>\n",
       "      <td>20.1333</td>\n",
       "      <td>7.257938e+07</td>\n",
       "    </tr>\n",
       "    <tr>\n",
       "      <th>2011-03-28</th>\n",
       "      <td>20.1711</td>\n",
       "      <td>20.2097</td>\n",
       "      <td>19.9417</td>\n",
       "      <td>19.9625</td>\n",
       "      <td>6.232000e+07</td>\n",
       "    </tr>\n",
       "    <tr>\n",
       "      <th>2011-03-29</th>\n",
       "      <td>19.9119</td>\n",
       "      <td>20.0559</td>\n",
       "      <td>19.8802</td>\n",
       "      <td>20.0301</td>\n",
       "      <td>5.187666e+07</td>\n",
       "    </tr>\n",
       "    <tr>\n",
       "      <th>2011-03-30</th>\n",
       "      <td>20.0986</td>\n",
       "      <td>20.2097</td>\n",
       "      <td>20.0389</td>\n",
       "      <td>20.1234</td>\n",
       "      <td>4.635916e+07</td>\n",
       "    </tr>\n",
       "    <tr>\n",
       "      <th>2011-03-31</th>\n",
       "      <td>20.1442</td>\n",
       "      <td>20.1779</td>\n",
       "      <td>19.9119</td>\n",
       "      <td>19.9486</td>\n",
       "      <td>8.046734e+07</td>\n",
       "    </tr>\n",
       "    <tr>\n",
       "      <th>2011-04-01</th>\n",
       "      <td>20.0469</td>\n",
       "      <td>20.0618</td>\n",
       "      <td>19.8872</td>\n",
       "      <td>20.0211</td>\n",
       "      <td>8.026090e+07</td>\n",
       "    </tr>\n",
       "    <tr>\n",
       "      <th>2011-04-04</th>\n",
       "      <td>19.9952</td>\n",
       "      <td>20.1641</td>\n",
       "      <td>19.9625</td>\n",
       "      <td>20.0757</td>\n",
       "      <td>4.509477e+07</td>\n",
       "    </tr>\n",
       "    <tr>\n",
       "      <th>2011-04-05</th>\n",
       "      <td>20.2881</td>\n",
       "      <td>20.5681</td>\n",
       "      <td>20.2217</td>\n",
       "      <td>20.2544</td>\n",
       "      <td>9.373193e+07</td>\n",
       "    </tr>\n",
       "    <tr>\n",
       "      <th>2011-04-06</th>\n",
       "      <td>20.4221</td>\n",
       "      <td>20.6763</td>\n",
       "      <td>20.3188</td>\n",
       "      <td>20.5453</td>\n",
       "      <td>8.344983e+07</td>\n",
       "    </tr>\n",
       "    <tr>\n",
       "      <th>2011-04-07</th>\n",
       "      <td>20.5453</td>\n",
       "      <td>20.6337</td>\n",
       "      <td>20.4073</td>\n",
       "      <td>20.5860</td>\n",
       "      <td>5.862001e+07</td>\n",
       "    </tr>\n",
       "    <tr>\n",
       "      <th>2011-04-08</th>\n",
       "      <td>20.5860</td>\n",
       "      <td>20.6505</td>\n",
       "      <td>20.4013</td>\n",
       "      <td>20.4828</td>\n",
       "      <td>5.074643e+07</td>\n",
       "    </tr>\n",
       "    <tr>\n",
       "      <th>2011-04-11</th>\n",
       "      <td>20.5770</td>\n",
       "      <td>20.6257</td>\n",
       "      <td>20.2732</td>\n",
       "      <td>20.4132</td>\n",
       "      <td>4.357470e+07</td>\n",
       "    </tr>\n",
       "    <tr>\n",
       "      <th>2011-04-12</th>\n",
       "      <td>20.2881</td>\n",
       "      <td>20.3101</td>\n",
       "      <td>20.0727</td>\n",
       "      <td>20.1451</td>\n",
       "      <td>4.698646e+07</td>\n",
       "    </tr>\n",
       "  </tbody>\n",
       "</table>\n",
       "</div>"
      ],
      "text/plain": [
       "               Open     High      Low    Close        Volume\n",
       "Date                                                        \n",
       "2011-03-22  19.9039  20.0042  19.8265  19.8802  3.932459e+07\n",
       "2011-03-23  19.8176  20.1234  19.7868  20.0687  5.595803e+07\n",
       "2011-03-24  20.1333  20.3268  20.0389  20.2811  4.928208e+07\n",
       "2011-03-25  20.3665  20.3914  20.1064  20.1333  7.257938e+07\n",
       "2011-03-28  20.1711  20.2097  19.9417  19.9625  6.232000e+07\n",
       "2011-03-29  19.9119  20.0559  19.8802  20.0301  5.187666e+07\n",
       "2011-03-30  20.0986  20.2097  20.0389  20.1234  4.635916e+07\n",
       "2011-03-31  20.1442  20.1779  19.9119  19.9486  8.046734e+07\n",
       "2011-04-01  20.0469  20.0618  19.8872  20.0211  8.026090e+07\n",
       "2011-04-04  19.9952  20.1641  19.9625  20.0757  4.509477e+07\n",
       "2011-04-05  20.2881  20.5681  20.2217  20.2544  9.373193e+07\n",
       "2011-04-06  20.4221  20.6763  20.3188  20.5453  8.344983e+07\n",
       "2011-04-07  20.5453  20.6337  20.4073  20.5860  5.862001e+07\n",
       "2011-04-08  20.5860  20.6505  20.4013  20.4828  5.074643e+07\n",
       "2011-04-11  20.5770  20.6257  20.2732  20.4132  4.357470e+07\n",
       "2011-04-12  20.2881  20.3101  20.0727  20.1451  4.698646e+07"
      ]
     },
     "execution_count": 23,
     "metadata": {},
     "output_type": "execute_result"
    }
   ],
   "source": [
    "stocks.loc[\"2011-3-22\":\"2011-4-12\"]"
   ]
  },
  {
   "cell_type": "code",
   "execution_count": 24,
   "metadata": {},
   "outputs": [
    {
     "data": {
      "text/html": [
       "<div>\n",
       "<style scoped>\n",
       "    .dataframe tbody tr th:only-of-type {\n",
       "        vertical-align: middle;\n",
       "    }\n",
       "\n",
       "    .dataframe tbody tr th {\n",
       "        vertical-align: top;\n",
       "    }\n",
       "\n",
       "    .dataframe thead th {\n",
       "        text-align: right;\n",
       "    }\n",
       "</style>\n",
       "<table border=\"1\" class=\"dataframe\">\n",
       "  <thead>\n",
       "    <tr style=\"text-align: right;\">\n",
       "      <th></th>\n",
       "      <th>Open</th>\n",
       "      <th>High</th>\n",
       "      <th>Low</th>\n",
       "      <th>Close</th>\n",
       "      <th>Volume</th>\n",
       "    </tr>\n",
       "    <tr>\n",
       "      <th>Date</th>\n",
       "      <th></th>\n",
       "      <th></th>\n",
       "      <th></th>\n",
       "      <th></th>\n",
       "      <th></th>\n",
       "    </tr>\n",
       "  </thead>\n",
       "  <tbody>\n",
       "    <tr>\n",
       "      <th>2010-03-03</th>\n",
       "      <td>22.4126</td>\n",
       "      <td>22.4783</td>\n",
       "      <td>22.2777</td>\n",
       "      <td>22.3631</td>\n",
       "      <td>6.161309e+07</td>\n",
       "    </tr>\n",
       "    <tr>\n",
       "      <th>2010-03-04</th>\n",
       "      <td>22.3481</td>\n",
       "      <td>22.5110</td>\n",
       "      <td>22.2141</td>\n",
       "      <td>22.4950</td>\n",
       "      <td>5.458180e+07</td>\n",
       "    </tr>\n",
       "    <tr>\n",
       "      <th>2010-03-05</th>\n",
       "      <td>22.5030</td>\n",
       "      <td>22.5358</td>\n",
       "      <td>22.3293</td>\n",
       "      <td>22.4633</td>\n",
       "      <td>7.126900e+07</td>\n",
       "    </tr>\n",
       "    <tr>\n",
       "      <th>2010-03-08</th>\n",
       "      <td>22.4058</td>\n",
       "      <td>22.7303</td>\n",
       "      <td>22.3968</td>\n",
       "      <td>22.4950</td>\n",
       "      <td>5.015984e+07</td>\n",
       "    </tr>\n",
       "    <tr>\n",
       "      <th>2010-03-09</th>\n",
       "      <td>22.4405</td>\n",
       "      <td>22.8733</td>\n",
       "      <td>22.4316</td>\n",
       "      <td>22.6310</td>\n",
       "      <td>6.397329e+07</td>\n",
       "    </tr>\n",
       "    <tr>\n",
       "      <th>...</th>\n",
       "      <td>...</td>\n",
       "      <td>...</td>\n",
       "      <td>...</td>\n",
       "      <td>...</td>\n",
       "      <td>...</td>\n",
       "    </tr>\n",
       "    <tr>\n",
       "      <th>2010-05-27</th>\n",
       "      <td>20.2237</td>\n",
       "      <td>20.7150</td>\n",
       "      <td>20.2177</td>\n",
       "      <td>20.4311</td>\n",
       "      <td>1.734563e+08</td>\n",
       "    </tr>\n",
       "    <tr>\n",
       "      <th>2010-05-28</th>\n",
       "      <td>20.2891</td>\n",
       "      <td>20.5215</td>\n",
       "      <td>20.1641</td>\n",
       "      <td>20.2732</td>\n",
       "      <td>8.589685e+07</td>\n",
       "    </tr>\n",
       "    <tr>\n",
       "      <th>2010-06-01</th>\n",
       "      <td>20.0906</td>\n",
       "      <td>20.6763</td>\n",
       "      <td>20.0559</td>\n",
       "      <td>20.3438</td>\n",
       "      <td>9.687786e+07</td>\n",
       "    </tr>\n",
       "    <tr>\n",
       "      <th>2010-06-02</th>\n",
       "      <td>20.4698</td>\n",
       "      <td>20.8094</td>\n",
       "      <td>20.2177</td>\n",
       "      <td>20.7934</td>\n",
       "      <td>8.306176e+07</td>\n",
       "    </tr>\n",
       "    <tr>\n",
       "      <th>2010-06-03</th>\n",
       "      <td>20.8540</td>\n",
       "      <td>21.1639</td>\n",
       "      <td>20.7507</td>\n",
       "      <td>21.1042</td>\n",
       "      <td>8.628358e+07</td>\n",
       "    </tr>\n",
       "  </tbody>\n",
       "</table>\n",
       "<p>65 rows × 5 columns</p>\n",
       "</div>"
      ],
      "text/plain": [
       "               Open     High      Low    Close        Volume\n",
       "Date                                                        \n",
       "2010-03-03  22.4126  22.4783  22.2777  22.3631  6.161309e+07\n",
       "2010-03-04  22.3481  22.5110  22.2141  22.4950  5.458180e+07\n",
       "2010-03-05  22.5030  22.5358  22.3293  22.4633  7.126900e+07\n",
       "2010-03-08  22.4058  22.7303  22.3968  22.4950  5.015984e+07\n",
       "2010-03-09  22.4405  22.8733  22.4316  22.6310  6.397329e+07\n",
       "...             ...      ...      ...      ...           ...\n",
       "2010-05-27  20.2237  20.7150  20.2177  20.4311  1.734563e+08\n",
       "2010-05-28  20.2891  20.5215  20.1641  20.2732  8.589685e+07\n",
       "2010-06-01  20.0906  20.6763  20.0559  20.3438  9.687786e+07\n",
       "2010-06-02  20.4698  20.8094  20.2177  20.7934  8.306176e+07\n",
       "2010-06-03  20.8540  21.1639  20.7507  21.1042  8.628358e+07\n",
       "\n",
       "[65 rows x 5 columns]"
      ]
     },
     "execution_count": 24,
     "metadata": {},
     "output_type": "execute_result"
    }
   ],
   "source": [
    "stocks.truncate(\"2010-3-3\", \"2010-6-3\")"
   ]
  },
  {
   "cell_type": "code",
   "execution_count": 25,
   "metadata": {},
   "outputs": [
    {
     "data": {
      "text/plain": [
       "DatetimeIndex(['2010-04-12 00:00:00', '2010-04-12 01:00:00',\n",
       "               '2010-04-12 02:00:00', '2010-04-12 03:00:00',\n",
       "               '2010-04-12 04:00:00', '2010-04-12 05:00:00',\n",
       "               '2010-04-12 06:00:00', '2010-04-12 07:00:00',\n",
       "               '2010-04-12 08:00:00', '2010-04-12 09:00:00',\n",
       "               ...\n",
       "               '2019-12-31 15:00:00', '2019-12-31 16:00:00',\n",
       "               '2019-12-31 17:00:00', '2019-12-31 18:00:00',\n",
       "               '2019-12-31 19:00:00', '2019-12-31 20:00:00',\n",
       "               '2019-12-31 21:00:00', '2019-12-31 22:00:00',\n",
       "               '2019-12-31 23:00:00', '2020-01-01 00:00:00'],\n",
       "              dtype='datetime64[ns]', length=85225, freq='H')"
      ]
     },
     "execution_count": 25,
     "metadata": {},
     "output_type": "execute_result"
    }
   ],
   "source": [
    "t = dt.timedelta(hours=1)\n",
    "pd.date_range(start=\"2010-4-12\", end=\"2020-1-1\", freq=t)"
   ]
  },
  {
   "cell_type": "code",
   "execution_count": null,
   "metadata": {},
   "outputs": [
    {
     "ename": "NameError",
     "evalue": "name 't' is not defined",
     "output_type": "error",
     "traceback": [
      "\u001b[1;31m---------------------------------------------------------------------------\u001b[0m",
      "\u001b[1;31mNameError\u001b[0m                                 Traceback (most recent call last)",
      "Cell \u001b[1;32mIn[1], line 1\u001b[0m\n\u001b[1;32m----> 1\u001b[0m t\n",
      "\u001b[1;31mNameError\u001b[0m: name 't' is not defined"
     ]
    }
   ],
   "source": [
    "t"
   ]
  },
  {
   "cell_type": "code",
   "execution_count": null,
   "metadata": {},
   "outputs": [],
   "source": []
  },
  {
   "cell_type": "code",
   "execution_count": 26,
   "metadata": {},
   "outputs": [],
   "source": [
    "import pandas as pd"
   ]
  },
  {
   "cell_type": "code",
   "execution_count": 30,
   "metadata": {},
   "outputs": [],
   "source": [
    "mask = pd.date_range(start=\"2010-4-12\", end=\"2019-12-31\", freq=pd.DateOffset(years=1))"
   ]
  },
  {
   "cell_type": "code",
   "execution_count": 34,
   "metadata": {},
   "outputs": [
    {
     "data": {
      "text/html": [
       "<div>\n",
       "<style scoped>\n",
       "    .dataframe tbody tr th:only-of-type {\n",
       "        vertical-align: middle;\n",
       "    }\n",
       "\n",
       "    .dataframe tbody tr th {\n",
       "        vertical-align: top;\n",
       "    }\n",
       "\n",
       "    .dataframe thead th {\n",
       "        text-align: right;\n",
       "    }\n",
       "</style>\n",
       "<table border=\"1\" class=\"dataframe\">\n",
       "  <thead>\n",
       "    <tr style=\"text-align: right;\">\n",
       "      <th></th>\n",
       "      <th>Open</th>\n",
       "      <th>High</th>\n",
       "      <th>Low</th>\n",
       "      <th>Close</th>\n",
       "      <th>Volume</th>\n",
       "    </tr>\n",
       "    <tr>\n",
       "      <th>Date</th>\n",
       "      <th></th>\n",
       "      <th></th>\n",
       "      <th></th>\n",
       "      <th></th>\n",
       "      <th></th>\n",
       "    </tr>\n",
       "  </thead>\n",
       "  <tbody>\n",
       "    <tr>\n",
       "      <th>2010-04-12</th>\n",
       "      <td>23.7738</td>\n",
       "      <td>23.9594</td>\n",
       "      <td>23.7291</td>\n",
       "      <td>23.8254</td>\n",
       "      <td>4.717443e+07</td>\n",
       "    </tr>\n",
       "    <tr>\n",
       "      <th>2011-04-12</th>\n",
       "      <td>20.2881</td>\n",
       "      <td>20.3101</td>\n",
       "      <td>20.0727</td>\n",
       "      <td>20.1451</td>\n",
       "      <td>4.698646e+07</td>\n",
       "    </tr>\n",
       "    <tr>\n",
       "      <th>2012-04-12</th>\n",
       "      <td>24.6027</td>\n",
       "      <td>25.0545</td>\n",
       "      <td>24.5540</td>\n",
       "      <td>25.0068</td>\n",
       "      <td>4.745507e+07</td>\n",
       "    </tr>\n",
       "    <tr>\n",
       "      <th>2013-04-12</th>\n",
       "      <td>23.9882</td>\n",
       "      <td>24.1281</td>\n",
       "      <td>23.8293</td>\n",
       "      <td>23.9356</td>\n",
       "      <td>7.563946e+07</td>\n",
       "    </tr>\n",
       "    <tr>\n",
       "      <th>2016-04-12</th>\n",
       "      <td>49.0942</td>\n",
       "      <td>49.4625</td>\n",
       "      <td>48.5433</td>\n",
       "      <td>49.3474</td>\n",
       "      <td>2.634784e+07</td>\n",
       "    </tr>\n",
       "    <tr>\n",
       "      <th>2017-04-12</th>\n",
       "      <td>60.6262</td>\n",
       "      <td>60.7106</td>\n",
       "      <td>60.3403</td>\n",
       "      <td>60.4504</td>\n",
       "      <td>1.777855e+07</td>\n",
       "    </tr>\n",
       "    <tr>\n",
       "      <th>2018-04-12</th>\n",
       "      <td>87.4516</td>\n",
       "      <td>89.0898</td>\n",
       "      <td>87.4516</td>\n",
       "      <td>88.5418</td>\n",
       "      <td>2.828220e+07</td>\n",
       "    </tr>\n",
       "    <tr>\n",
       "      <th>2019-04-12</th>\n",
       "      <td>116.0740</td>\n",
       "      <td>116.3920</td>\n",
       "      <td>115.8160</td>\n",
       "      <td>116.3620</td>\n",
       "      <td>2.052278e+07</td>\n",
       "    </tr>\n",
       "  </tbody>\n",
       "</table>\n",
       "</div>"
      ],
      "text/plain": [
       "                Open      High       Low     Close        Volume\n",
       "Date                                                            \n",
       "2010-04-12   23.7738   23.9594   23.7291   23.8254  4.717443e+07\n",
       "2011-04-12   20.2881   20.3101   20.0727   20.1451  4.698646e+07\n",
       "2012-04-12   24.6027   25.0545   24.5540   25.0068  4.745507e+07\n",
       "2013-04-12   23.9882   24.1281   23.8293   23.9356  7.563946e+07\n",
       "2016-04-12   49.0942   49.4625   48.5433   49.3474  2.634784e+07\n",
       "2017-04-12   60.6262   60.7106   60.3403   60.4504  1.777855e+07\n",
       "2018-04-12   87.4516   89.0898   87.4516   88.5418  2.828220e+07\n",
       "2019-04-12  116.0740  116.3920  115.8160  116.3620  2.052278e+07"
      ]
     },
     "execution_count": 34,
     "metadata": {},
     "output_type": "execute_result"
    }
   ],
   "source": [
    "stocks.loc[stocks.index.isin(mask)]"
   ]
  },
  {
   "cell_type": "code",
   "execution_count": 37,
   "metadata": {},
   "outputs": [],
   "source": [
    "some_day = stocks.index[500]"
   ]
  },
  {
   "cell_type": "code",
   "execution_count": 47,
   "metadata": {},
   "outputs": [
    {
     "data": {
      "text/plain": [
       "'Tuesday'"
      ]
     },
     "execution_count": 47,
     "metadata": {},
     "output_type": "execute_result"
    }
   ],
   "source": [
    "some_day.day_name()"
   ]
  },
  {
   "cell_type": "code",
   "execution_count": 51,
   "metadata": {},
   "outputs": [
    {
     "data": {
      "text/plain": [
       "Index(['Monday', 'Tuesday', 'Wednesday', 'Thursday', 'Friday', 'Monday',\n",
       "       'Tuesday', 'Wednesday', 'Thursday', 'Friday',\n",
       "       ...\n",
       "       'Thursday', 'Friday', 'Monday', 'Tuesday', 'Wednesday', 'Thursday',\n",
       "       'Monday', 'Tuesday', 'Wednesday', 'Thursday'],\n",
       "      dtype='object', name='Date', length=2769)"
      ]
     },
     "execution_count": 51,
     "metadata": {},
     "output_type": "execute_result"
    }
   ],
   "source": [
    "stocks.index.day_name()"
   ]
  },
  {
   "cell_type": "code",
   "execution_count": 52,
   "metadata": {},
   "outputs": [],
   "source": [
    "stocks.insert(0, \"Day of week\", stocks.index.day_name())"
   ]
  },
  {
   "cell_type": "code",
   "execution_count": 55,
   "metadata": {},
   "outputs": [],
   "source": [
    "dat = stocks.index.is_month_start"
   ]
  },
  {
   "cell_type": "code",
   "execution_count": 56,
   "metadata": {},
   "outputs": [],
   "source": [
    "stocks.insert(loc=0, column=\"Is month start\", value=dat)\n"
   ]
  },
  {
   "cell_type": "code",
   "execution_count": 59,
   "metadata": {},
   "outputs": [
    {
     "data": {
      "text/html": [
       "<div>\n",
       "<style scoped>\n",
       "    .dataframe tbody tr th:only-of-type {\n",
       "        vertical-align: middle;\n",
       "    }\n",
       "\n",
       "    .dataframe tbody tr th {\n",
       "        vertical-align: top;\n",
       "    }\n",
       "\n",
       "    .dataframe thead th {\n",
       "        text-align: right;\n",
       "    }\n",
       "</style>\n",
       "<table border=\"1\" class=\"dataframe\">\n",
       "  <thead>\n",
       "    <tr style=\"text-align: right;\">\n",
       "      <th></th>\n",
       "      <th>Is month start</th>\n",
       "      <th>Day of week</th>\n",
       "      <th>Open</th>\n",
       "      <th>High</th>\n",
       "      <th>Low</th>\n",
       "      <th>Close</th>\n",
       "      <th>Volume</th>\n",
       "    </tr>\n",
       "    <tr>\n",
       "      <th>Date</th>\n",
       "      <th></th>\n",
       "      <th></th>\n",
       "      <th></th>\n",
       "      <th></th>\n",
       "      <th></th>\n",
       "      <th></th>\n",
       "      <th></th>\n",
       "    </tr>\n",
       "  </thead>\n",
       "  <tbody>\n",
       "    <tr>\n",
       "      <th>2010-02-01</th>\n",
       "      <td>True</td>\n",
       "      <td>Monday</td>\n",
       "      <td>22.3144</td>\n",
       "      <td>22.3809</td>\n",
       "      <td>21.9382</td>\n",
       "      <td>22.3234</td>\n",
       "      <td>1.092082e+08</td>\n",
       "    </tr>\n",
       "    <tr>\n",
       "      <th>2010-03-01</th>\n",
       "      <td>True</td>\n",
       "      <td>Monday</td>\n",
       "      <td>22.6053</td>\n",
       "      <td>22.8277</td>\n",
       "      <td>22.4196</td>\n",
       "      <td>22.8048</td>\n",
       "      <td>5.570803e+07</td>\n",
       "    </tr>\n",
       "    <tr>\n",
       "      <th>2010-04-01</th>\n",
       "      <td>True</td>\n",
       "      <td>Thursday</td>\n",
       "      <td>23.0619</td>\n",
       "      <td>23.2089</td>\n",
       "      <td>22.4861</td>\n",
       "      <td>22.9120</td>\n",
       "      <td>9.513903e+07</td>\n",
       "    </tr>\n",
       "    <tr>\n",
       "      <th>2010-06-01</th>\n",
       "      <td>True</td>\n",
       "      <td>Tuesday</td>\n",
       "      <td>20.0906</td>\n",
       "      <td>20.6763</td>\n",
       "      <td>20.0559</td>\n",
       "      <td>20.3438</td>\n",
       "      <td>9.687786e+07</td>\n",
       "    </tr>\n",
       "    <tr>\n",
       "      <th>2010-07-01</th>\n",
       "      <td>True</td>\n",
       "      <td>Thursday</td>\n",
       "      <td>18.1428</td>\n",
       "      <td>18.3235</td>\n",
       "      <td>17.8589</td>\n",
       "      <td>18.1964</td>\n",
       "      <td>1.173523e+08</td>\n",
       "    </tr>\n",
       "    <tr>\n",
       "      <th>...</th>\n",
       "      <td>...</td>\n",
       "      <td>...</td>\n",
       "      <td>...</td>\n",
       "      <td>...</td>\n",
       "      <td>...</td>\n",
       "      <td>...</td>\n",
       "      <td>...</td>\n",
       "    </tr>\n",
       "    <tr>\n",
       "      <th>2020-06-01</th>\n",
       "      <td>True</td>\n",
       "      <td>Monday</td>\n",
       "      <td>178.4290</td>\n",
       "      <td>178.8860</td>\n",
       "      <td>177.3870</td>\n",
       "      <td>178.7180</td>\n",
       "      <td>2.318935e+07</td>\n",
       "    </tr>\n",
       "    <tr>\n",
       "      <th>2020-07-01</th>\n",
       "      <td>True</td>\n",
       "      <td>Wednesday</td>\n",
       "      <td>198.5920</td>\n",
       "      <td>201.7210</td>\n",
       "      <td>197.2420</td>\n",
       "      <td>200.1020</td>\n",
       "      <td>3.279741e+07</td>\n",
       "    </tr>\n",
       "    <tr>\n",
       "      <th>2020-09-01</th>\n",
       "      <td>True</td>\n",
       "      <td>Tuesday</td>\n",
       "      <td>220.9700</td>\n",
       "      <td>222.8960</td>\n",
       "      <td>219.9170</td>\n",
       "      <td>222.7170</td>\n",
       "      <td>2.631985e+07</td>\n",
       "    </tr>\n",
       "    <tr>\n",
       "      <th>2020-10-01</th>\n",
       "      <td>True</td>\n",
       "      <td>Thursday</td>\n",
       "      <td>209.1950</td>\n",
       "      <td>209.6820</td>\n",
       "      <td>207.0900</td>\n",
       "      <td>208.2030</td>\n",
       "      <td>2.771505e+07</td>\n",
       "    </tr>\n",
       "    <tr>\n",
       "      <th>2020-12-01</th>\n",
       "      <td>True</td>\n",
       "      <td>Tuesday</td>\n",
       "      <td>210.7540</td>\n",
       "      <td>213.5230</td>\n",
       "      <td>209.6020</td>\n",
       "      <td>212.4220</td>\n",
       "      <td>3.148286e+07</td>\n",
       "    </tr>\n",
       "  </tbody>\n",
       "</table>\n",
       "<p>85 rows × 7 columns</p>\n",
       "</div>"
      ],
      "text/plain": [
       "            Is month start Day of week      Open      High       Low  \\\n",
       "Date                                                                   \n",
       "2010-02-01            True      Monday   22.3144   22.3809   21.9382   \n",
       "2010-03-01            True      Monday   22.6053   22.8277   22.4196   \n",
       "2010-04-01            True    Thursday   23.0619   23.2089   22.4861   \n",
       "2010-06-01            True     Tuesday   20.0906   20.6763   20.0559   \n",
       "2010-07-01            True    Thursday   18.1428   18.3235   17.8589   \n",
       "...                    ...         ...       ...       ...       ...   \n",
       "2020-06-01            True      Monday  178.4290  178.8860  177.3870   \n",
       "2020-07-01            True   Wednesday  198.5920  201.7210  197.2420   \n",
       "2020-09-01            True     Tuesday  220.9700  222.8960  219.9170   \n",
       "2020-10-01            True    Thursday  209.1950  209.6820  207.0900   \n",
       "2020-12-01            True     Tuesday  210.7540  213.5230  209.6020   \n",
       "\n",
       "               Close        Volume  \n",
       "Date                                \n",
       "2010-02-01   22.3234  1.092082e+08  \n",
       "2010-03-01   22.8048  5.570803e+07  \n",
       "2010-04-01   22.9120  9.513903e+07  \n",
       "2010-06-01   20.3438  9.687786e+07  \n",
       "2010-07-01   18.1964  1.173523e+08  \n",
       "...              ...           ...  \n",
       "2020-06-01  178.7180  2.318935e+07  \n",
       "2020-07-01  200.1020  3.279741e+07  \n",
       "2020-09-01  222.7170  2.631985e+07  \n",
       "2020-10-01  208.2030  2.771505e+07  \n",
       "2020-12-01  212.4220  3.148286e+07  \n",
       "\n",
       "[85 rows x 7 columns]"
      ]
     },
     "execution_count": 59,
     "metadata": {},
     "output_type": "execute_result"
    }
   ],
   "source": [
    "stocks.loc[dat]"
   ]
  },
  {
   "cell_type": "code",
   "execution_count": 71,
   "metadata": {},
   "outputs": [
    {
     "data": {
      "text/plain": [
       "DatetimeIndex(['2009-12-30', '2009-12-31', '2010-01-01', '2010-01-02',\n",
       "               '2010-01-03', '2010-01-06', '2010-01-07', '2010-01-08',\n",
       "               '2010-01-09', '2010-01-10',\n",
       "               ...\n",
       "               '2020-12-12', '2020-12-13', '2020-12-16', '2020-12-17',\n",
       "               '2020-12-18', '2020-12-19', '2020-12-23', '2020-12-24',\n",
       "               '2020-12-25', '2020-12-26'],\n",
       "              dtype='datetime64[ns]', name='Date', length=2769, freq=None)"
      ]
     },
     "execution_count": 71,
     "metadata": {},
     "output_type": "execute_result"
    }
   ],
   "source": [
    "s = stocks.index\n",
    "delta = pd.DateOffset(days=5)\n",
    "stocks.index - pd.DateOffset(days=5)"
   ]
  },
  {
   "cell_type": "code",
   "execution_count": 73,
   "metadata": {},
   "outputs": [
    {
     "data": {
      "text/plain": [
       "DatetimeIndex(['2010-03-04', '2010-03-05', '2010-03-06', '2010-03-07',\n",
       "               '2010-03-08', '2010-03-11', '2010-03-12', '2010-03-13',\n",
       "               '2010-03-14', '2010-03-15',\n",
       "               ...\n",
       "               '2021-02-17', '2021-02-18', '2021-02-21', '2021-02-22',\n",
       "               '2021-02-23', '2021-02-24', '2021-02-28', '2021-02-28',\n",
       "               '2021-02-28', '2021-02-28'],\n",
       "              dtype='datetime64[ns]', name='Date', length=2769, freq=None)"
      ]
     },
     "execution_count": 73,
     "metadata": {},
     "output_type": "execute_result"
    }
   ],
   "source": [
    "stocks.index + pd.DateOffset(months=2)"
   ]
  },
  {
   "cell_type": "code",
   "execution_count": 76,
   "metadata": {},
   "outputs": [
    {
     "data": {
      "text/plain": [
       "DatetimeIndex(['2013-02-27 03:22:00', '2013-02-28 03:22:00',\n",
       "               '2013-03-01 03:22:00', '2013-03-02 03:22:00',\n",
       "               '2013-03-03 03:22:00', '2013-03-06 03:22:00',\n",
       "               '2013-03-07 03:22:00', '2013-03-08 03:22:00',\n",
       "               '2013-03-09 03:22:00', '2013-03-10 03:22:00',\n",
       "               ...\n",
       "               '2024-02-09 03:22:00', '2024-02-10 03:22:00',\n",
       "               '2024-02-13 03:22:00', '2024-02-14 03:22:00',\n",
       "               '2024-02-15 03:22:00', '2024-02-16 03:22:00',\n",
       "               '2024-02-20 03:22:00', '2024-02-21 03:22:00',\n",
       "               '2024-02-22 03:22:00', '2024-02-23 03:22:00'],\n",
       "              dtype='datetime64[ns]', name='Date', length=2769, freq=None)"
      ]
     },
     "execution_count": 76,
     "metadata": {},
     "output_type": "execute_result"
    }
   ],
   "source": [
    "stocks.index + pd.DateOffset(years=3, months=1, days=23, hours=3, minutes=22)"
   ]
  },
  {
   "cell_type": "code",
   "execution_count": 83,
   "metadata": {},
   "outputs": [
    {
     "data": {
      "text/plain": [
       "DatetimeIndex(['2010-01-01', '2010-01-01', '2010-01-01', '2010-01-01',\n",
       "               '2010-01-01', '2010-01-01', '2010-01-01', '2010-01-01',\n",
       "               '2010-01-01', '2010-01-01',\n",
       "               ...\n",
       "               '2020-12-01', '2020-12-01', '2020-12-01', '2020-12-01',\n",
       "               '2020-12-01', '2020-12-01', '2020-12-01', '2020-12-01',\n",
       "               '2020-12-01', '2020-12-01'],\n",
       "              dtype='datetime64[ns]', name='Date', length=2769, freq=None)"
      ]
     },
     "execution_count": 83,
     "metadata": {},
     "output_type": "execute_result"
    }
   ],
   "source": [
    "stocks.index - pd.tseries.offsets.MonthBegin()"
   ]
  },
  {
   "cell_type": "code",
   "execution_count": 84,
   "metadata": {},
   "outputs": [],
   "source": [
    "from pandas.tseries import offsets\n"
   ]
  },
  {
   "cell_type": "code",
   "execution_count": 85,
   "metadata": {},
   "outputs": [
    {
     "data": {
      "text/plain": [
       "DatetimeIndex(['2010-02-01', '2010-02-01', '2010-02-01', '2010-02-01',\n",
       "               '2010-02-01', '2010-02-01', '2010-02-01', '2010-02-01',\n",
       "               '2010-02-01', '2010-02-01',\n",
       "               ...\n",
       "               '2021-01-01', '2021-01-01', '2021-01-01', '2021-01-01',\n",
       "               '2021-01-01', '2021-01-01', '2021-01-01', '2021-01-01',\n",
       "               '2021-01-01', '2021-01-01'],\n",
       "              dtype='datetime64[ns]', name='Date', length=2769, freq=None)"
      ]
     },
     "execution_count": 85,
     "metadata": {},
     "output_type": "execute_result"
    }
   ],
   "source": [
    "stocks.index + offsets.MonthBegin()"
   ]
  },
  {
   "cell_type": "code",
   "execution_count": 86,
   "metadata": {},
   "outputs": [
    {
     "data": {
      "text/plain": [
       "DatetimeIndex(['2010-01-29', '2010-01-29', '2010-01-29', '2010-01-29',\n",
       "               '2010-01-29', '2010-01-29', '2010-01-29', '2010-01-29',\n",
       "               '2010-01-29', '2010-01-29',\n",
       "               ...\n",
       "               '2020-12-31', '2020-12-31', '2020-12-31', '2020-12-31',\n",
       "               '2020-12-31', '2020-12-31', '2020-12-31', '2020-12-31',\n",
       "               '2020-12-31', '2021-01-29'],\n",
       "              dtype='datetime64[ns]', name='Date', length=2769, freq=None)"
      ]
     },
     "execution_count": 86,
     "metadata": {},
     "output_type": "execute_result"
    }
   ],
   "source": [
    "stocks.index + offsets.BMonthEnd()"
   ]
  },
  {
   "cell_type": "code",
   "execution_count": 88,
   "metadata": {},
   "outputs": [
    {
     "data": {
      "text/plain": [
       "DatetimeIndex(['2010-01-01', '2010-01-01', '2010-01-01', '2010-01-01',\n",
       "               '2010-01-01', '2010-01-01', '2010-01-01', '2010-01-01',\n",
       "               '2010-01-01', '2010-01-01',\n",
       "               ...\n",
       "               '2020-01-01', '2020-01-01', '2020-01-01', '2020-01-01',\n",
       "               '2020-01-01', '2020-01-01', '2020-01-01', '2020-01-01',\n",
       "               '2020-01-01', '2020-01-01'],\n",
       "              dtype='datetime64[ns]', name='Date', length=2769, freq=None)"
      ]
     },
     "execution_count": 88,
     "metadata": {},
     "output_type": "execute_result"
    }
   ],
   "source": [
    "stocks.index - offsets.YearBegin()"
   ]
  },
  {
   "cell_type": "code",
   "execution_count": 91,
   "metadata": {},
   "outputs": [
    {
     "data": {
      "text/plain": [
       "Timedelta('-11 days +00:00:00')"
      ]
     },
     "execution_count": 91,
     "metadata": {},
     "output_type": "execute_result"
    }
   ],
   "source": [
    "timeA = pd.Timestamp(\"2020-3-31\")\n",
    "timeB = pd.Timestamp(\"2020-3-20\")\n",
    "timeA - (timeA - timeB)\n",
    "timeB - timeA"
   ]
  },
  {
   "cell_type": "code",
   "execution_count": 96,
   "metadata": {},
   "outputs": [
    {
     "data": {
      "text/plain": [
       "Timestamp('2020-04-12 21:45:00.123000')"
      ]
     },
     "execution_count": 96,
     "metadata": {},
     "output_type": "execute_result"
    }
   ],
   "source": [
    "timeB + pd.Timedelta(days=2, hours=21, minutes=45, milliseconds=123, weeks=3)"
   ]
  },
  {
   "cell_type": "code",
   "execution_count": 98,
   "metadata": {},
   "outputs": [
    {
     "data": {
      "text/plain": [
       "Timestamp('2022-03-20 00:00:00')"
      ]
     },
     "execution_count": 98,
     "metadata": {},
     "output_type": "execute_result"
    }
   ],
   "source": [
    "timeB + pd.DateOffset(years=2)"
   ]
  },
  {
   "cell_type": "code",
   "execution_count": 100,
   "metadata": {},
   "outputs": [
    {
     "data": {
      "text/plain": [
       "Timedelta('2 days 03:04:03')"
      ]
     },
     "execution_count": 100,
     "metadata": {},
     "output_type": "execute_result"
    }
   ],
   "source": [
    "pd.Timedelta(\"2 days, 3 hours, 4 minutes, 3 seconds\")"
   ]
  },
  {
   "cell_type": "code",
   "execution_count": 103,
   "metadata": {},
   "outputs": [
    {
     "name": "stderr",
     "output_type": "stream",
     "text": [
      "C:\\Users\\informatika\\AppData\\Local\\Temp\\ipykernel_12484\\1757046717.py:1: UserWarning: Could not infer format, so each element will be parsed individually, falling back to `dateutil`. To ensure parsing is consistent and as-expected, please specify a format.\n",
      "  df = pd.read_csv(r\"pandas\\pandas\\ecommerce.csv\", index_col=\"ID\", parse_dates=[\"order_date\", \"delivery_date\"])\n",
      "C:\\Users\\informatika\\AppData\\Local\\Temp\\ipykernel_12484\\1757046717.py:1: UserWarning: Could not infer format, so each element will be parsed individually, falling back to `dateutil`. To ensure parsing is consistent and as-expected, please specify a format.\n",
      "  df = pd.read_csv(r\"pandas\\pandas\\ecommerce.csv\", index_col=\"ID\", parse_dates=[\"order_date\", \"delivery_date\"])\n"
     ]
    },
    {
     "data": {
      "text/html": [
       "<div>\n",
       "<style scoped>\n",
       "    .dataframe tbody tr th:only-of-type {\n",
       "        vertical-align: middle;\n",
       "    }\n",
       "\n",
       "    .dataframe tbody tr th {\n",
       "        vertical-align: top;\n",
       "    }\n",
       "\n",
       "    .dataframe thead th {\n",
       "        text-align: right;\n",
       "    }\n",
       "</style>\n",
       "<table border=\"1\" class=\"dataframe\">\n",
       "  <thead>\n",
       "    <tr style=\"text-align: right;\">\n",
       "      <th></th>\n",
       "      <th>order_date</th>\n",
       "      <th>delivery_date</th>\n",
       "    </tr>\n",
       "    <tr>\n",
       "      <th>ID</th>\n",
       "      <th></th>\n",
       "      <th></th>\n",
       "    </tr>\n",
       "  </thead>\n",
       "  <tbody>\n",
       "    <tr>\n",
       "      <th>1</th>\n",
       "      <td>1998-05-24</td>\n",
       "      <td>1999-02-05</td>\n",
       "    </tr>\n",
       "    <tr>\n",
       "      <th>2</th>\n",
       "      <td>1992-04-22</td>\n",
       "      <td>1998-03-06</td>\n",
       "    </tr>\n",
       "    <tr>\n",
       "      <th>4</th>\n",
       "      <td>1991-02-10</td>\n",
       "      <td>1992-08-26</td>\n",
       "    </tr>\n",
       "    <tr>\n",
       "      <th>5</th>\n",
       "      <td>1992-07-21</td>\n",
       "      <td>1997-11-20</td>\n",
       "    </tr>\n",
       "    <tr>\n",
       "      <th>7</th>\n",
       "      <td>1993-09-02</td>\n",
       "      <td>1998-06-10</td>\n",
       "    </tr>\n",
       "    <tr>\n",
       "      <th>...</th>\n",
       "      <td>...</td>\n",
       "      <td>...</td>\n",
       "    </tr>\n",
       "    <tr>\n",
       "      <th>990</th>\n",
       "      <td>1991-06-24</td>\n",
       "      <td>1996-02-02</td>\n",
       "    </tr>\n",
       "    <tr>\n",
       "      <th>991</th>\n",
       "      <td>1991-09-09</td>\n",
       "      <td>1998-03-30</td>\n",
       "    </tr>\n",
       "    <tr>\n",
       "      <th>993</th>\n",
       "      <td>1990-11-16</td>\n",
       "      <td>1998-04-27</td>\n",
       "    </tr>\n",
       "    <tr>\n",
       "      <th>994</th>\n",
       "      <td>1993-06-03</td>\n",
       "      <td>1993-06-13</td>\n",
       "    </tr>\n",
       "    <tr>\n",
       "      <th>997</th>\n",
       "      <td>1990-01-04</td>\n",
       "      <td>1991-10-03</td>\n",
       "    </tr>\n",
       "  </tbody>\n",
       "</table>\n",
       "<p>501 rows × 2 columns</p>\n",
       "</div>"
      ],
      "text/plain": [
       "    order_date delivery_date\n",
       "ID                          \n",
       "1   1998-05-24    1999-02-05\n",
       "2   1992-04-22    1998-03-06\n",
       "4   1991-02-10    1992-08-26\n",
       "5   1992-07-21    1997-11-20\n",
       "7   1993-09-02    1998-06-10\n",
       "..         ...           ...\n",
       "990 1991-06-24    1996-02-02\n",
       "991 1991-09-09    1998-03-30\n",
       "993 1990-11-16    1998-04-27\n",
       "994 1993-06-03    1993-06-13\n",
       "997 1990-01-04    1991-10-03\n",
       "\n",
       "[501 rows x 2 columns]"
      ]
     },
     "execution_count": 103,
     "metadata": {},
     "output_type": "execute_result"
    }
   ],
   "source": [
    "df = pd.read_csv(r\"pandas\\pandas\\ecommerce.csv\", index_col=\"ID\", parse_dates=[\"order_date\", \"delivery_date\"])\n",
    "\n",
    "df"
   ]
  },
  {
   "cell_type": "code",
   "execution_count": 104,
   "metadata": {},
   "outputs": [
    {
     "name": "stdout",
     "output_type": "stream",
     "text": [
      "<class 'pandas.core.frame.DataFrame'>\n",
      "Index: 501 entries, 1 to 997\n",
      "Data columns (total 2 columns):\n",
      " #   Column         Non-Null Count  Dtype         \n",
      "---  ------         --------------  -----         \n",
      " 0   order_date     501 non-null    datetime64[ns]\n",
      " 1   delivery_date  501 non-null    datetime64[ns]\n",
      "dtypes: datetime64[ns](2)\n",
      "memory usage: 11.7 KB\n"
     ]
    }
   ],
   "source": [
    "df.info()"
   ]
  },
  {
   "cell_type": "code",
   "execution_count": 112,
   "metadata": {},
   "outputs": [
    {
     "data": {
      "text/html": [
       "<div>\n",
       "<style scoped>\n",
       "    .dataframe tbody tr th:only-of-type {\n",
       "        vertical-align: middle;\n",
       "    }\n",
       "\n",
       "    .dataframe tbody tr th {\n",
       "        vertical-align: top;\n",
       "    }\n",
       "\n",
       "    .dataframe thead th {\n",
       "        text-align: right;\n",
       "    }\n",
       "</style>\n",
       "<table border=\"1\" class=\"dataframe\">\n",
       "  <thead>\n",
       "    <tr style=\"text-align: right;\">\n",
       "      <th></th>\n",
       "      <th>order_date</th>\n",
       "      <th>delivery_date</th>\n",
       "      <th>duration</th>\n",
       "    </tr>\n",
       "    <tr>\n",
       "      <th>ID</th>\n",
       "      <th></th>\n",
       "      <th></th>\n",
       "      <th></th>\n",
       "    </tr>\n",
       "  </thead>\n",
       "  <tbody>\n",
       "    <tr>\n",
       "      <th>1</th>\n",
       "      <td>1998-05-24</td>\n",
       "      <td>1999-02-05</td>\n",
       "      <td>257 days</td>\n",
       "    </tr>\n",
       "    <tr>\n",
       "      <th>2</th>\n",
       "      <td>1992-04-22</td>\n",
       "      <td>1998-03-06</td>\n",
       "      <td>2144 days</td>\n",
       "    </tr>\n",
       "    <tr>\n",
       "      <th>4</th>\n",
       "      <td>1991-02-10</td>\n",
       "      <td>1992-08-26</td>\n",
       "      <td>563 days</td>\n",
       "    </tr>\n",
       "    <tr>\n",
       "      <th>5</th>\n",
       "      <td>1992-07-21</td>\n",
       "      <td>1997-11-20</td>\n",
       "      <td>1948 days</td>\n",
       "    </tr>\n",
       "    <tr>\n",
       "      <th>7</th>\n",
       "      <td>1993-09-02</td>\n",
       "      <td>1998-06-10</td>\n",
       "      <td>1742 days</td>\n",
       "    </tr>\n",
       "    <tr>\n",
       "      <th>...</th>\n",
       "      <td>...</td>\n",
       "      <td>...</td>\n",
       "      <td>...</td>\n",
       "    </tr>\n",
       "    <tr>\n",
       "      <th>990</th>\n",
       "      <td>1991-06-24</td>\n",
       "      <td>1996-02-02</td>\n",
       "      <td>1684 days</td>\n",
       "    </tr>\n",
       "    <tr>\n",
       "      <th>991</th>\n",
       "      <td>1991-09-09</td>\n",
       "      <td>1998-03-30</td>\n",
       "      <td>2394 days</td>\n",
       "    </tr>\n",
       "    <tr>\n",
       "      <th>993</th>\n",
       "      <td>1990-11-16</td>\n",
       "      <td>1998-04-27</td>\n",
       "      <td>2719 days</td>\n",
       "    </tr>\n",
       "    <tr>\n",
       "      <th>994</th>\n",
       "      <td>1993-06-03</td>\n",
       "      <td>1993-06-13</td>\n",
       "      <td>10 days</td>\n",
       "    </tr>\n",
       "    <tr>\n",
       "      <th>997</th>\n",
       "      <td>1990-01-04</td>\n",
       "      <td>1991-10-03</td>\n",
       "      <td>637 days</td>\n",
       "    </tr>\n",
       "  </tbody>\n",
       "</table>\n",
       "<p>501 rows × 3 columns</p>\n",
       "</div>"
      ],
      "text/plain": [
       "    order_date delivery_date  duration\n",
       "ID                                    \n",
       "1   1998-05-24    1999-02-05  257 days\n",
       "2   1992-04-22    1998-03-06 2144 days\n",
       "4   1991-02-10    1992-08-26  563 days\n",
       "5   1992-07-21    1997-11-20 1948 days\n",
       "7   1993-09-02    1998-06-10 1742 days\n",
       "..         ...           ...       ...\n",
       "990 1991-06-24    1996-02-02 1684 days\n",
       "991 1991-09-09    1998-03-30 2394 days\n",
       "993 1990-11-16    1998-04-27 2719 days\n",
       "994 1993-06-03    1993-06-13   10 days\n",
       "997 1990-01-04    1991-10-03  637 days\n",
       "\n",
       "[501 rows x 3 columns]"
      ]
     },
     "execution_count": 112,
     "metadata": {},
     "output_type": "execute_result"
    }
   ],
   "source": [
    "df.head(3)\n",
    "df[\"duration\"] = df[\"delivery_date\"] - df[\"order_date\"]\n",
    "\n",
    "df\n"
   ]
  },
  {
   "cell_type": "code",
   "execution_count": 113,
   "metadata": {},
   "outputs": [
    {
     "data": {
      "text/html": [
       "<div>\n",
       "<style scoped>\n",
       "    .dataframe tbody tr th:only-of-type {\n",
       "        vertical-align: middle;\n",
       "    }\n",
       "\n",
       "    .dataframe tbody tr th {\n",
       "        vertical-align: top;\n",
       "    }\n",
       "\n",
       "    .dataframe thead th {\n",
       "        text-align: right;\n",
       "    }\n",
       "</style>\n",
       "<table border=\"1\" class=\"dataframe\">\n",
       "  <thead>\n",
       "    <tr style=\"text-align: right;\">\n",
       "      <th></th>\n",
       "      <th>order_date</th>\n",
       "      <th>delivery_date</th>\n",
       "      <th>duration</th>\n",
       "    </tr>\n",
       "    <tr>\n",
       "      <th>ID</th>\n",
       "      <th></th>\n",
       "      <th></th>\n",
       "      <th></th>\n",
       "    </tr>\n",
       "  </thead>\n",
       "  <tbody>\n",
       "    <tr>\n",
       "      <th>1</th>\n",
       "      <td>1998-05-24</td>\n",
       "      <td>1999-02-05</td>\n",
       "      <td>257 days</td>\n",
       "    </tr>\n",
       "    <tr>\n",
       "      <th>2</th>\n",
       "      <td>1992-04-22</td>\n",
       "      <td>1998-03-06</td>\n",
       "      <td>2144 days</td>\n",
       "    </tr>\n",
       "    <tr>\n",
       "      <th>4</th>\n",
       "      <td>1991-02-10</td>\n",
       "      <td>1992-08-26</td>\n",
       "      <td>563 days</td>\n",
       "    </tr>\n",
       "    <tr>\n",
       "      <th>5</th>\n",
       "      <td>1992-07-21</td>\n",
       "      <td>1997-11-20</td>\n",
       "      <td>1948 days</td>\n",
       "    </tr>\n",
       "    <tr>\n",
       "      <th>7</th>\n",
       "      <td>1993-09-02</td>\n",
       "      <td>1998-06-10</td>\n",
       "      <td>1742 days</td>\n",
       "    </tr>\n",
       "    <tr>\n",
       "      <th>...</th>\n",
       "      <td>...</td>\n",
       "      <td>...</td>\n",
       "      <td>...</td>\n",
       "    </tr>\n",
       "    <tr>\n",
       "      <th>990</th>\n",
       "      <td>1991-06-24</td>\n",
       "      <td>1996-02-02</td>\n",
       "      <td>1684 days</td>\n",
       "    </tr>\n",
       "    <tr>\n",
       "      <th>991</th>\n",
       "      <td>1991-09-09</td>\n",
       "      <td>1998-03-30</td>\n",
       "      <td>2394 days</td>\n",
       "    </tr>\n",
       "    <tr>\n",
       "      <th>993</th>\n",
       "      <td>1990-11-16</td>\n",
       "      <td>1998-04-27</td>\n",
       "      <td>2719 days</td>\n",
       "    </tr>\n",
       "    <tr>\n",
       "      <th>994</th>\n",
       "      <td>1993-06-03</td>\n",
       "      <td>1993-06-13</td>\n",
       "      <td>10 days</td>\n",
       "    </tr>\n",
       "    <tr>\n",
       "      <th>997</th>\n",
       "      <td>1990-01-04</td>\n",
       "      <td>1991-10-03</td>\n",
       "      <td>637 days</td>\n",
       "    </tr>\n",
       "  </tbody>\n",
       "</table>\n",
       "<p>501 rows × 3 columns</p>\n",
       "</div>"
      ],
      "text/plain": [
       "    order_date delivery_date  duration\n",
       "ID                                    \n",
       "1   1998-05-24    1999-02-05  257 days\n",
       "2   1992-04-22    1998-03-06 2144 days\n",
       "4   1991-02-10    1992-08-26  563 days\n",
       "5   1992-07-21    1997-11-20 1948 days\n",
       "7   1993-09-02    1998-06-10 1742 days\n",
       "..         ...           ...       ...\n",
       "990 1991-06-24    1996-02-02 1684 days\n",
       "991 1991-09-09    1998-03-30 2394 days\n",
       "993 1990-11-16    1998-04-27 2719 days\n",
       "994 1993-06-03    1993-06-13   10 days\n",
       "997 1990-01-04    1991-10-03  637 days\n",
       "\n",
       "[501 rows x 3 columns]"
      ]
     },
     "execution_count": 113,
     "metadata": {},
     "output_type": "execute_result"
    }
   ],
   "source": [
    "df"
   ]
  },
  {
   "cell_type": "code",
   "execution_count": 117,
   "metadata": {},
   "outputs": [],
   "source": [
    "df[\"twice_as_long\"] = df[\"delivery_date\"] + df[\"duration\"]"
   ]
  },
  {
   "cell_type": "code",
   "execution_count": 123,
   "metadata": {},
   "outputs": [],
   "source": [
    "mask = df[\"duration\"] > pd.Timedelta(days=3000)"
   ]
  },
  {
   "cell_type": "code",
   "execution_count": null,
   "metadata": {},
   "outputs": [],
   "source": []
  },
  {
   "cell_type": "code",
   "execution_count": 126,
   "metadata": {},
   "outputs": [
    {
     "data": {
      "text/plain": [
       "Timedelta('3583 days 00:00:00')"
      ]
     },
     "execution_count": 126,
     "metadata": {},
     "output_type": "execute_result"
    }
   ],
   "source": [
    "df[\"duration\"].max()"
   ]
  },
  {
   "cell_type": "code",
   "execution_count": null,
   "metadata": {},
   "outputs": [],
   "source": []
  },
  {
   "cell_type": "code",
   "execution_count": null,
   "metadata": {},
   "outputs": [],
   "source": []
  },
  {
   "cell_type": "code",
   "execution_count": null,
   "metadata": {},
   "outputs": [],
   "source": []
  },
  {
   "cell_type": "code",
   "execution_count": null,
   "metadata": {},
   "outputs": [],
   "source": []
  },
  {
   "cell_type": "code",
   "execution_count": null,
   "metadata": {},
   "outputs": [],
   "source": []
  },
  {
   "cell_type": "code",
   "execution_count": null,
   "metadata": {},
   "outputs": [],
   "source": []
  },
  {
   "cell_type": "code",
   "execution_count": null,
   "metadata": {},
   "outputs": [],
   "source": []
  },
  {
   "cell_type": "code",
   "execution_count": null,
   "metadata": {},
   "outputs": [],
   "source": []
  },
  {
   "cell_type": "code",
   "execution_count": null,
   "metadata": {},
   "outputs": [],
   "source": []
  },
  {
   "cell_type": "code",
   "execution_count": null,
   "metadata": {},
   "outputs": [],
   "source": []
  },
  {
   "cell_type": "code",
   "execution_count": null,
   "metadata": {},
   "outputs": [],
   "source": []
  },
  {
   "cell_type": "code",
   "execution_count": null,
   "metadata": {},
   "outputs": [],
   "source": []
  },
  {
   "cell_type": "code",
   "execution_count": null,
   "metadata": {},
   "outputs": [],
   "source": []
  },
  {
   "cell_type": "code",
   "execution_count": null,
   "metadata": {},
   "outputs": [],
   "source": []
  },
  {
   "cell_type": "code",
   "execution_count": null,
   "metadata": {},
   "outputs": [],
   "source": []
  },
  {
   "cell_type": "code",
   "execution_count": null,
   "metadata": {},
   "outputs": [],
   "source": []
  },
  {
   "cell_type": "code",
   "execution_count": null,
   "metadata": {},
   "outputs": [],
   "source": []
  },
  {
   "cell_type": "code",
   "execution_count": null,
   "metadata": {},
   "outputs": [],
   "source": []
  },
  {
   "cell_type": "code",
   "execution_count": null,
   "metadata": {},
   "outputs": [],
   "source": []
  },
  {
   "cell_type": "code",
   "execution_count": null,
   "metadata": {},
   "outputs": [],
   "source": []
  },
  {
   "cell_type": "code",
   "execution_count": null,
   "metadata": {},
   "outputs": [],
   "source": []
  },
  {
   "cell_type": "code",
   "execution_count": null,
   "metadata": {},
   "outputs": [],
   "source": []
  },
  {
   "cell_type": "code",
   "execution_count": null,
   "metadata": {},
   "outputs": [],
   "source": []
  },
  {
   "cell_type": "code",
   "execution_count": null,
   "metadata": {},
   "outputs": [],
   "source": []
  },
  {
   "cell_type": "code",
   "execution_count": null,
   "metadata": {},
   "outputs": [],
   "source": []
  },
  {
   "cell_type": "code",
   "execution_count": null,
   "metadata": {},
   "outputs": [],
   "source": []
  },
  {
   "cell_type": "code",
   "execution_count": null,
   "metadata": {},
   "outputs": [],
   "source": []
  },
  {
   "cell_type": "code",
   "execution_count": null,
   "metadata": {},
   "outputs": [],
   "source": []
  },
  {
   "cell_type": "code",
   "execution_count": null,
   "metadata": {},
   "outputs": [],
   "source": []
  },
  {
   "cell_type": "code",
   "execution_count": null,
   "metadata": {},
   "outputs": [],
   "source": []
  },
  {
   "cell_type": "code",
   "execution_count": null,
   "metadata": {},
   "outputs": [],
   "source": []
  },
  {
   "cell_type": "code",
   "execution_count": null,
   "metadata": {},
   "outputs": [],
   "source": []
  },
  {
   "cell_type": "code",
   "execution_count": null,
   "metadata": {},
   "outputs": [],
   "source": []
  },
  {
   "cell_type": "code",
   "execution_count": null,
   "metadata": {},
   "outputs": [],
   "source": []
  },
  {
   "cell_type": "code",
   "execution_count": null,
   "metadata": {},
   "outputs": [],
   "source": []
  },
  {
   "cell_type": "code",
   "execution_count": null,
   "metadata": {},
   "outputs": [],
   "source": []
  },
  {
   "cell_type": "code",
   "execution_count": null,
   "metadata": {},
   "outputs": [],
   "source": []
  },
  {
   "cell_type": "code",
   "execution_count": null,
   "metadata": {},
   "outputs": [],
   "source": []
  },
  {
   "cell_type": "code",
   "execution_count": null,
   "metadata": {},
   "outputs": [],
   "source": []
  },
  {
   "cell_type": "code",
   "execution_count": null,
   "metadata": {},
   "outputs": [],
   "source": []
  },
  {
   "cell_type": "code",
   "execution_count": null,
   "metadata": {},
   "outputs": [],
   "source": []
  },
  {
   "cell_type": "code",
   "execution_count": null,
   "metadata": {},
   "outputs": [],
   "source": []
  },
  {
   "cell_type": "code",
   "execution_count": null,
   "metadata": {},
   "outputs": [],
   "source": []
  },
  {
   "cell_type": "code",
   "execution_count": null,
   "metadata": {},
   "outputs": [],
   "source": []
  },
  {
   "cell_type": "code",
   "execution_count": null,
   "metadata": {},
   "outputs": [],
   "source": []
  },
  {
   "cell_type": "code",
   "execution_count": null,
   "metadata": {},
   "outputs": [],
   "source": []
  },
  {
   "cell_type": "code",
   "execution_count": null,
   "metadata": {},
   "outputs": [],
   "source": []
  },
  {
   "cell_type": "code",
   "execution_count": null,
   "metadata": {},
   "outputs": [],
   "source": []
  },
  {
   "cell_type": "code",
   "execution_count": null,
   "metadata": {},
   "outputs": [],
   "source": []
  },
  {
   "cell_type": "code",
   "execution_count": null,
   "metadata": {},
   "outputs": [],
   "source": []
  },
  {
   "cell_type": "code",
   "execution_count": null,
   "metadata": {},
   "outputs": [],
   "source": []
  },
  {
   "cell_type": "code",
   "execution_count": null,
   "metadata": {},
   "outputs": [],
   "source": []
  },
  {
   "cell_type": "code",
   "execution_count": null,
   "metadata": {},
   "outputs": [],
   "source": []
  },
  {
   "cell_type": "code",
   "execution_count": null,
   "metadata": {},
   "outputs": [],
   "source": []
  },
  {
   "cell_type": "code",
   "execution_count": null,
   "metadata": {},
   "outputs": [],
   "source": []
  },
  {
   "cell_type": "code",
   "execution_count": null,
   "metadata": {},
   "outputs": [],
   "source": []
  },
  {
   "cell_type": "code",
   "execution_count": null,
   "metadata": {},
   "outputs": [],
   "source": []
  },
  {
   "cell_type": "code",
   "execution_count": null,
   "metadata": {},
   "outputs": [],
   "source": []
  },
  {
   "cell_type": "code",
   "execution_count": null,
   "metadata": {},
   "outputs": [],
   "source": []
  },
  {
   "cell_type": "code",
   "execution_count": null,
   "metadata": {},
   "outputs": [],
   "source": []
  },
  {
   "cell_type": "code",
   "execution_count": null,
   "metadata": {},
   "outputs": [],
   "source": []
  },
  {
   "cell_type": "code",
   "execution_count": null,
   "metadata": {},
   "outputs": [],
   "source": []
  },
  {
   "cell_type": "code",
   "execution_count": null,
   "metadata": {},
   "outputs": [],
   "source": []
  },
  {
   "cell_type": "code",
   "execution_count": null,
   "metadata": {},
   "outputs": [],
   "source": []
  },
  {
   "cell_type": "code",
   "execution_count": null,
   "metadata": {},
   "outputs": [],
   "source": []
  },
  {
   "cell_type": "code",
   "execution_count": null,
   "metadata": {},
   "outputs": [],
   "source": []
  },
  {
   "cell_type": "code",
   "execution_count": null,
   "metadata": {},
   "outputs": [],
   "source": []
  },
  {
   "cell_type": "code",
   "execution_count": null,
   "metadata": {},
   "outputs": [],
   "source": []
  },
  {
   "cell_type": "code",
   "execution_count": null,
   "metadata": {},
   "outputs": [],
   "source": []
  },
  {
   "cell_type": "code",
   "execution_count": null,
   "metadata": {},
   "outputs": [],
   "source": []
  },
  {
   "cell_type": "code",
   "execution_count": null,
   "metadata": {},
   "outputs": [],
   "source": []
  },
  {
   "cell_type": "code",
   "execution_count": null,
   "metadata": {},
   "outputs": [],
   "source": []
  },
  {
   "cell_type": "code",
   "execution_count": null,
   "metadata": {},
   "outputs": [],
   "source": []
  },
  {
   "cell_type": "code",
   "execution_count": null,
   "metadata": {},
   "outputs": [],
   "source": []
  },
  {
   "cell_type": "code",
   "execution_count": null,
   "metadata": {},
   "outputs": [],
   "source": []
  },
  {
   "cell_type": "code",
   "execution_count": null,
   "metadata": {},
   "outputs": [
    {
     "data": {
      "text/html": [
       "<style type=\"text/css\">\n",
       "table.dataframe td, table.dataframe th {\n",
       "    border: 1px  black solid !important;\n",
       "  color: black !important;\n",
       "}\n"
      ],
      "text/plain": [
       "<IPython.core.display.HTML object>"
      ]
     },
     "metadata": {},
     "output_type": "display_data"
    }
   ],
   "source": [
    "%%HTML\n",
    "<style type=\"text/css\">\n",
    "table.dataframe td, table.dataframe th {\n",
    "    border: 1px  black solid !important;\n",
    "  color: black !important;\n",
    "}"
   ]
  }
 ],
 "metadata": {
  "kernelspec": {
   "display_name": "Python 3",
   "language": "python",
   "name": "python3"
  },
  "language_info": {
   "codemirror_mode": {
    "name": "ipython",
    "version": 3
   },
   "file_extension": ".py",
   "mimetype": "text/x-python",
   "name": "python",
   "nbconvert_exporter": "python",
   "pygments_lexer": "ipython3",
   "version": "3.10.11"
  },
  "orig_nbformat": 4
 },
 "nbformat": 4,
 "nbformat_minor": 2
}
